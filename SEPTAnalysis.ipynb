{
  "nbformat": 4,
  "nbformat_minor": 0,
  "metadata": {
    "colab": {
      "name": "CIS545FinalProjectv2.ipynb",
      "provenance": [],
      "collapsed_sections": [],
      "toc_visible": true,
      "machine_shape": "hm"
    },
    "kernelspec": {
      "name": "python3",
      "display_name": "Python 3"
    },
    "accelerator": "GPU"
  },
  "cells": [
    {
      "cell_type": "markdown",
      "metadata": {
        "id": "R8EFPfGkhcFf",
        "colab_type": "text"
      },
      "source": [
        "# SEPTA EDA, Delay Prediction, & *@SEPTA* Sentiment Analysis \n",
        "\n",
        "The purpose of this project is two-fold:\n",
        "\n",
        "First, we will be analyzing the SEPTA trains dataset and seeing if we can extrapolate any kind of valuable insights about train delays (i.e. relationship between delays and time of day, station, weekday, etc). We will also attempt to forecast delays -- training a Random Forest model to predict a train's status given its timestamp, origin, destination, etc. \n",
        "\n",
        "Second, we will be looking at tweets directed at the SEPTA account and analyzing their sentiment. We will then try and extrapolate insights from these sentiments -- analyzing if any particular sentiment reigns supreme at certain times of day, weeks, etc. We will also try and see if the recent COVID-19 situation has had an effect on these sentiments. "
      ]
    },
    {
      "cell_type": "markdown",
      "metadata": {
        "id": "GzwnCjfVkine",
        "colab_type": "text"
      },
      "source": [
        "## Part 1: SEPTA EDA\n",
        "\n",
        "In this section, we explore various questions -- including, but not limited to:\n",
        "\n",
        "1.) What does the distribution of train delays look like?\n",
        "\n",
        "2.) Are trains going to be later at particular times/days?\n",
        "\n",
        "3.) Do certain stations suffer more from delays than others?"
      ]
    },
    {
      "cell_type": "markdown",
      "metadata": {
        "id": "t5RznyI2hpnS",
        "colab_type": "text"
      },
      "source": [
        "#### 1.1 Imports, loading data, and more!\n"
      ]
    },
    {
      "cell_type": "code",
      "metadata": {
        "id": "YQTewkpEi6TG",
        "colab_type": "code",
        "colab": {}
      },
      "source": [
        "import numpy as np\n",
        "import pandas as pd\n",
        "import json\n",
        "import matplotlib\n",
        "import matplotlib.pyplot as plt\n",
        "import os\n",
        "from google.colab import drive"
      ],
      "execution_count": 0,
      "outputs": []
    },
    {
      "cell_type": "markdown",
      "metadata": {
        "id": "_OIJl7qSjCQO",
        "colab_type": "text"
      },
      "source": [
        "Unzip all of the data and place it in a new folder."
      ]
    },
    {
      "cell_type": "code",
      "metadata": {
        "id": "HvIGHxDDjBur",
        "colab_type": "code",
        "outputId": "dad7ce0a-db35-488c-aebb-7c67312c527c",
        "colab": {
          "base_uri": "https://localhost:8080/",
          "height": 122
        }
      },
      "source": [
        "# Mount google drive\n",
        "DRIVE_MOUNT='/content/gdrive'\n",
        "drive.mount(DRIVE_MOUNT)"
      ],
      "execution_count": 2,
      "outputs": [
        {
          "output_type": "stream",
          "text": [
            "Go to this URL in a browser: https://accounts.google.com/o/oauth2/auth?client_id=947318989803-6bn6qk8qdgf4n4g3pfee6491hc0brc4i.apps.googleusercontent.com&redirect_uri=urn%3aietf%3awg%3aoauth%3a2.0%3aoob&response_type=code&scope=email%20https%3a%2f%2fwww.googleapis.com%2fauth%2fdocs.test%20https%3a%2f%2fwww.googleapis.com%2fauth%2fdrive%20https%3a%2f%2fwww.googleapis.com%2fauth%2fdrive.photos.readonly%20https%3a%2f%2fwww.googleapis.com%2fauth%2fpeopleapi.readonly\n",
            "\n",
            "Enter your authorization code:\n",
            "··········\n",
            "Mounted at /content/gdrive\n"
          ],
          "name": "stdout"
        }
      ]
    },
    {
      "cell_type": "code",
      "metadata": {
        "id": "F0dNJrr6jWDV",
        "colab_type": "code",
        "outputId": "157500eb-db12-43cb-c8cc-16575e37a87d",
        "colab": {
          "base_uri": "https://localhost:8080/",
          "height": 85
        }
      },
      "source": [
        "!unzip \"/content/gdrive/My Drive/CIS545_2020/on-time-performance.zip\""
      ],
      "execution_count": 0,
      "outputs": [
        {
          "output_type": "stream",
          "text": [
            "Archive:  /content/gdrive/My Drive/CIS545_2020/on-time-performance.zip\n",
            "  inflating: database.sqlite         \n",
            "  inflating: otp.csv                 \n",
            "  inflating: trainView.csv           \n"
          ],
          "name": "stdout"
        }
      ]
    },
    {
      "cell_type": "markdown",
      "metadata": {
        "id": "pHV_U1qSkLaz",
        "colab_type": "text"
      },
      "source": [
        "Let's load our train data into a Pandas dataframe."
      ]
    },
    {
      "cell_type": "code",
      "metadata": {
        "id": "VaWeVq70jmQJ",
        "colab_type": "code",
        "outputId": "747e685e-f7da-4d7a-b1b3-cc12980fdd30",
        "colab": {
          "base_uri": "https://localhost:8080/",
          "height": 419
        }
      },
      "source": [
        "train_df = pd.read_csv('otp.csv')\n",
        "train_df"
      ],
      "execution_count": 0,
      "outputs": [
        {
          "output_type": "execute_result",
          "data": {
            "text/html": [
              "<div>\n",
              "<style scoped>\n",
              "    .dataframe tbody tr th:only-of-type {\n",
              "        vertical-align: middle;\n",
              "    }\n",
              "\n",
              "    .dataframe tbody tr th {\n",
              "        vertical-align: top;\n",
              "    }\n",
              "\n",
              "    .dataframe thead th {\n",
              "        text-align: right;\n",
              "    }\n",
              "</style>\n",
              "<table border=\"1\" class=\"dataframe\">\n",
              "  <thead>\n",
              "    <tr style=\"text-align: right;\">\n",
              "      <th></th>\n",
              "      <th>train_id</th>\n",
              "      <th>direction</th>\n",
              "      <th>origin</th>\n",
              "      <th>next_station</th>\n",
              "      <th>date</th>\n",
              "      <th>status</th>\n",
              "      <th>timeStamp</th>\n",
              "    </tr>\n",
              "  </thead>\n",
              "  <tbody>\n",
              "    <tr>\n",
              "      <th>0</th>\n",
              "      <td>778</td>\n",
              "      <td>N</td>\n",
              "      <td>Trenton</td>\n",
              "      <td>Stenton</td>\n",
              "      <td>2016-03-23</td>\n",
              "      <td>1 min</td>\n",
              "      <td>2016-03-23 00:01:47</td>\n",
              "    </tr>\n",
              "    <tr>\n",
              "      <th>1</th>\n",
              "      <td>598</td>\n",
              "      <td>N</td>\n",
              "      <td>Thorndale</td>\n",
              "      <td>Narberth</td>\n",
              "      <td>2016-03-23</td>\n",
              "      <td>1 min</td>\n",
              "      <td>2016-03-23 00:01:58</td>\n",
              "    </tr>\n",
              "    <tr>\n",
              "      <th>2</th>\n",
              "      <td>279</td>\n",
              "      <td>S</td>\n",
              "      <td>Elm</td>\n",
              "      <td>Ridley Park</td>\n",
              "      <td>2016-03-23</td>\n",
              "      <td>2 min</td>\n",
              "      <td>2016-03-23 00:02:02</td>\n",
              "    </tr>\n",
              "    <tr>\n",
              "      <th>3</th>\n",
              "      <td>476</td>\n",
              "      <td>N</td>\n",
              "      <td>Airport Terminal E-F</td>\n",
              "      <td>Suburban Station</td>\n",
              "      <td>2016-03-23</td>\n",
              "      <td>On Time</td>\n",
              "      <td>2016-03-23 00:03:19</td>\n",
              "    </tr>\n",
              "    <tr>\n",
              "      <th>4</th>\n",
              "      <td>474</td>\n",
              "      <td>N</td>\n",
              "      <td>Airport Terminal E-F</td>\n",
              "      <td>Jenkintown-Wyncote</td>\n",
              "      <td>2016-03-23</td>\n",
              "      <td>On Time</td>\n",
              "      <td>2016-03-23 00:03:35</td>\n",
              "    </tr>\n",
              "    <tr>\n",
              "      <th>...</th>\n",
              "      <td>...</td>\n",
              "      <td>...</td>\n",
              "      <td>...</td>\n",
              "      <td>...</td>\n",
              "      <td>...</td>\n",
              "      <td>...</td>\n",
              "      <td>...</td>\n",
              "    </tr>\n",
              "    <tr>\n",
              "      <th>1882010</th>\n",
              "      <td>3520</td>\n",
              "      <td>N</td>\n",
              "      <td>Elwyn</td>\n",
              "      <td>University City</td>\n",
              "      <td>2016-11-06</td>\n",
              "      <td>12 min</td>\n",
              "      <td>2016-11-06 12:16:59</td>\n",
              "    </tr>\n",
              "    <tr>\n",
              "      <th>1882011</th>\n",
              "      <td>215</td>\n",
              "      <td>S</td>\n",
              "      <td>Elm</td>\n",
              "      <td>Allegheny</td>\n",
              "      <td>2016-11-06</td>\n",
              "      <td>7 min</td>\n",
              "      <td>2016-11-06 12:17:01</td>\n",
              "    </tr>\n",
              "    <tr>\n",
              "      <th>1882012</th>\n",
              "      <td>214</td>\n",
              "      <td>N</td>\n",
              "      <td>None</td>\n",
              "      <td>None</td>\n",
              "      <td>2016-11-06</td>\n",
              "      <td>On Time</td>\n",
              "      <td>2016-11-06 12:17:01</td>\n",
              "    </tr>\n",
              "    <tr>\n",
              "      <th>1882013</th>\n",
              "      <td>5338</td>\n",
              "      <td>N</td>\n",
              "      <td>None</td>\n",
              "      <td>None</td>\n",
              "      <td>2016-11-06</td>\n",
              "      <td>On Time</td>\n",
              "      <td>2016-11-06 12:17:02</td>\n",
              "    </tr>\n",
              "    <tr>\n",
              "      <th>1882014</th>\n",
              "      <td>3531</td>\n",
              "      <td>S</td>\n",
              "      <td>West Trenton</td>\n",
              "      <td>Suburban Station</td>\n",
              "      <td>2016-11-06</td>\n",
              "      <td>17 min</td>\n",
              "      <td>2016-11-06 12:17:02</td>\n",
              "    </tr>\n",
              "  </tbody>\n",
              "</table>\n",
              "<p>1882015 rows × 7 columns</p>\n",
              "</div>"
            ],
            "text/plain": [
              "        train_id direction  ...   status            timeStamp\n",
              "0            778         N  ...    1 min  2016-03-23 00:01:47\n",
              "1            598         N  ...    1 min  2016-03-23 00:01:58\n",
              "2            279         S  ...    2 min  2016-03-23 00:02:02\n",
              "3            476         N  ...  On Time  2016-03-23 00:03:19\n",
              "4            474         N  ...  On Time  2016-03-23 00:03:35\n",
              "...          ...       ...  ...      ...                  ...\n",
              "1882010     3520         N  ...   12 min  2016-11-06 12:16:59\n",
              "1882011      215         S  ...    7 min  2016-11-06 12:17:01\n",
              "1882012      214         N  ...  On Time  2016-11-06 12:17:01\n",
              "1882013     5338         N  ...  On Time  2016-11-06 12:17:02\n",
              "1882014     3531         S  ...   17 min  2016-11-06 12:17:02\n",
              "\n",
              "[1882015 rows x 7 columns]"
            ]
          },
          "metadata": {
            "tags": []
          },
          "execution_count": 64
        }
      ]
    },
    {
      "cell_type": "markdown",
      "metadata": {
        "id": "O45YZGmakTOW",
        "colab_type": "text"
      },
      "source": [
        "#### 1.2 Data cleaning and pre-processing.\n",
        "\n",
        "In this section, we're going to prepare some of our data for EDA. Let's drop all columns w/ None values.\n"
      ]
    },
    {
      "cell_type": "code",
      "metadata": {
        "id": "GT_chovjj-eu",
        "colab_type": "code",
        "colab": {}
      },
      "source": [
        "train_df = train_df.dropna()"
      ],
      "execution_count": 0,
      "outputs": []
    },
    {
      "cell_type": "markdown",
      "metadata": {
        "id": "6Gcgkcg4k70k",
        "colab_type": "text"
      },
      "source": [
        "Let's convert our 'date' column to a datetime object, as well as process the 'status' column into a format we can later use (i.e. convert \"On Time\" = 1, \"1 min\" = 1, etc).\n",
        "\n",
        "We will also split our datetime and timestamp columns into their individual components.\n",
        "\n"
      ]
    },
    {
      "cell_type": "code",
      "metadata": {
        "id": "YsAcZxabksO7",
        "colab_type": "code",
        "colab": {}
      },
      "source": [
        "train_df['date'] = pd.to_datetime(train_df['date'])\n",
        "train_df['year'] = train_df['date'].apply(lambda x : x.year)\n",
        "train_df['month'] = train_df['date'].apply(lambda x : x.month)\n",
        "train_df['day'] = train_df['date'].apply(lambda x : x.day)"
      ],
      "execution_count": 0,
      "outputs": []
    },
    {
      "cell_type": "code",
      "metadata": {
        "id": "ytfykLQAswrk",
        "colab_type": "code",
        "colab": {}
      },
      "source": [
        "train_df['timeStamp'] = pd.to_datetime(train_df['timeStamp'])\n",
        "train_df['hour'] = train_df['timeStamp'].apply(lambda x : x.hour)\n",
        "train_df['minute'] = train_df['timeStamp'].apply(lambda x : x.minute)\n",
        "train_df['second'] = train_df['timeStamp'].apply(lambda x : x.second)\n",
        "\n",
        "weekday_map = {\n",
        "     0 : \"Mon\", \n",
        "     1 : \"Tues\",\n",
        "     2 : \"Wed\",\n",
        "     3 : \"Thurs\",\n",
        "     4 : \"Fri\",\n",
        "     5 : \"Sat\",\n",
        "     6 : \"Sun\"\n",
        "}\n",
        "train_df['weekday'] = train_df['timeStamp'].apply(lambda x : \n",
        "                                                  weekday_map[x.weekday()])\n",
        "train_df['weekday_num'] = train_df['timeStamp'].apply(lambda x : x.weekday())"
      ],
      "execution_count": 0,
      "outputs": []
    },
    {
      "cell_type": "markdown",
      "metadata": {
        "id": "6XiPKd7ljGAo",
        "colab_type": "text"
      },
      "source": [
        "We write a function parse_status to convert strings like \"17 min\" to just 17."
      ]
    },
    {
      "cell_type": "code",
      "metadata": {
        "id": "kNZESJMOlVjw",
        "colab_type": "code",
        "colab": {}
      },
      "source": [
        "def parse_status(str):\n",
        "  if (str == \"On Time\"):\n",
        "    return 0\n",
        "  else:\n",
        "    return int(str.split(\" \")[0].strip())\n",
        "  \n",
        "train_df['status'] = train_df['status'].apply(lambda x : parse_status(x))"
      ],
      "execution_count": 0,
      "outputs": []
    },
    {
      "cell_type": "code",
      "metadata": {
        "id": "HQmBPhnnvir5",
        "colab_type": "code",
        "colab": {}
      },
      "source": [
        "train_df = train_df[train_df['status'] < 999]"
      ],
      "execution_count": 0,
      "outputs": []
    },
    {
      "cell_type": "markdown",
      "metadata": {
        "id": "h-SUJmysnI0B",
        "colab_type": "text"
      },
      "source": [
        "#### 1.3 Plotting basic statistics\n",
        "\n",
        "As an initial analysis, let's plot the range of delay times in histogram + box-plot formats."
      ]
    },
    {
      "cell_type": "code",
      "metadata": {
        "id": "Mu_P_qgllpP3",
        "colab_type": "code",
        "outputId": "0deecb78-9a3e-4a0a-a1e6-31b74633d5be",
        "colab": {
          "base_uri": "https://localhost:8080/",
          "height": 85
        }
      },
      "source": [
        "import seaborn as sb\n",
        "\n",
        "max_delay = train_df['status'].max()\n",
        "min_delay = train_df['status'].min()\n",
        "average_delay = train_df['status'].mean()\n",
        "std_delay = train_df['status'].std()\n",
        "print(\"Max Delay:\", (max_delay), \"minutes\")\n",
        "print(\"Min Delay:\", (min_delay), \"minutes\")\n",
        "print(\"Average Delay:\", average_delay, \"minutes\")\n",
        "print(\"STD:\", std_delay, \"minutes\")"
      ],
      "execution_count": 0,
      "outputs": [
        {
          "output_type": "stream",
          "text": [
            "Max Delay: 500 minutes\n",
            "Min Delay: 0 minutes\n",
            "Average Delay: 4.179644557131581 minutes\n",
            "STD: 6.567342522715621 minutes\n"
          ],
          "name": "stdout"
        }
      ]
    },
    {
      "cell_type": "code",
      "metadata": {
        "id": "_pGqrfRxnVP5",
        "colab_type": "code",
        "outputId": "77bba687-7927-42a7-80bf-c901d7e93b73",
        "colab": {
          "base_uri": "https://localhost:8080/",
          "height": 295
        }
      },
      "source": [
        "ax = sb.distplot(train_df['status'], bins=500)\n",
        "plt.title(\"Distribution of delay times\")\n",
        "plt.xlabel(\"Minutes\")\n",
        "plt.ylabel(\"Frequency\")\n",
        "plt.xlim(0, 30)\n",
        "plt.show()"
      ],
      "execution_count": 0,
      "outputs": [
        {
          "output_type": "display_data",
          "data": {
            "image/png": "[encoded data removed]",
            "text/plain": [
              "<Figure size 432x288 with 1 Axes>"
            ]
          },
          "metadata": {
            "tags": [],
            "needs_background": "light"
          }
        }
      ]
    },
    {
      "cell_type": "markdown",
      "metadata": {
        "id": "5cPj4sYMxutF",
        "colab_type": "text"
      },
      "source": [
        "Looks like most delay times range from 0-10 minutes, with some occasional outliers in the 20+ minute range."
      ]
    },
    {
      "cell_type": "code",
      "metadata": {
        "id": "Q69u7eHnpkTZ",
        "colab_type": "code",
        "outputId": "e3c3fd29-a316-4ec0-b941-e7b8375a6ca4",
        "colab": {
          "base_uri": "https://localhost:8080/",
          "height": 295
        }
      },
      "source": [
        "ax = sb.boxplot(x=train_df['hour'], y=train_df['status'], showfliers=False)\n",
        "plt.title(\"Box-plot of delay times by hour of the day\")\n",
        "plt.xlabel(\"Hour of the day\")\n",
        "plt.ylabel(\"Minutes\")\n",
        "plt.show()"
      ],
      "execution_count": 0,
      "outputs": [
        {
          "output_type": "display_data",
          "data": {
            "image/png": "[encoded data removed]",
            "text/plain": [
              "<Figure size 432x288 with 1 Axes>"
            ]
          },
          "metadata": {
            "tags": [],
            "needs_background": "light"
          }
        }
      ]
    },
    {
      "cell_type": "markdown",
      "metadata": {
        "id": "o2jpLL04siCG",
        "colab_type": "text"
      },
      "source": [
        "Seems like most delays are in the morning hours when people are going to work (8-9AM) and evening hours (5-7PM) when people are coming back from work (the mean here is lower, but the width of the given box is similar to the 8-9AM category). Makes sense!"
      ]
    },
    {
      "cell_type": "code",
      "metadata": {
        "id": "yCIfUTvLrs23",
        "colab_type": "code",
        "outputId": "15dc7e9a-770a-484e-92dc-307a4097c4bf",
        "colab": {
          "base_uri": "https://localhost:8080/",
          "height": 295
        }
      },
      "source": [
        "ax = sb.boxplot(x=train_df['weekday'], y=train_df['status'], showfliers=False)\n",
        "plt.title(\"Box-plot of delay times by weekday\")\n",
        "plt.xlabel(\"Weekday\")\n",
        "plt.ylabel(\"Minutes\")\n",
        "plt.show()"
      ],
      "execution_count": 0,
      "outputs": [
        {
          "output_type": "display_data",
          "data": {
            "image/png": "[encoded data removed]",
            "text/plain": [
              "<Figure size 432x288 with 1 Axes>"
            ]
          },
          "metadata": {
            "tags": [],
            "needs_background": "light"
          }
        }
      ]
    },
    {
      "cell_type": "markdown",
      "metadata": {
        "id": "-e6TnfneyArC",
        "colab_type": "text"
      },
      "source": [
        "Looks like Fridays, Mondays, and Tuesdays have more delays (not on average, but the range of delays is higher) -- although there  isn't *crazy* variation here."
      ]
    },
    {
      "cell_type": "markdown",
      "metadata": {
        "id": "cqSaohSk07rr",
        "colab_type": "text"
      },
      "source": [
        "#### 1.4 More-involved plotting\n",
        "\n",
        "In this section, we'll be looking at EDA for some more involved questions! First, we'll be looking at whether or not some particular stations are more subject to being late."
      ]
    },
    {
      "cell_type": "code",
      "metadata": {
        "id": "NYV65Idkakiq",
        "colab_type": "code",
        "outputId": "64d3f052-ec59-4040-865e-7a63878b9a64",
        "colab": {
          "base_uri": "https://localhost:8080/",
          "height": 136
        }
      },
      "source": [
        "!pip3 install pandasql"
      ],
      "execution_count": 0,
      "outputs": [
        {
          "output_type": "stream",
          "text": [
            "Requirement already satisfied: pandasql in /usr/local/lib/python3.6/dist-packages (0.7.3)\n",
            "Requirement already satisfied: pandas in /usr/local/lib/python3.6/dist-packages (from pandasql) (1.0.3)\n",
            "Requirement already satisfied: sqlalchemy in /usr/local/lib/python3.6/dist-packages (from pandasql) (1.3.16)\n",
            "Requirement already satisfied: numpy in /usr/local/lib/python3.6/dist-packages (from pandasql) (1.18.3)\n",
            "Requirement already satisfied: pytz>=2017.2 in /usr/local/lib/python3.6/dist-packages (from pandas->pandasql) (2018.9)\n",
            "Requirement already satisfied: python-dateutil>=2.6.1 in /usr/local/lib/python3.6/dist-packages (from pandas->pandasql) (2.8.1)\n",
            "Requirement already satisfied: six>=1.5 in /usr/local/lib/python3.6/dist-packages (from python-dateutil>=2.6.1->pandas->pandasql) (1.12.0)\n"
          ],
          "name": "stdout"
        }
      ]
    },
    {
      "cell_type": "markdown",
      "metadata": {
        "id": "CzzDZLVNcCHu",
        "colab_type": "text"
      },
      "source": [
        "We'll create a new dataframe that contains average delays by origin station."
      ]
    },
    {
      "cell_type": "code",
      "metadata": {
        "id": "U9N6qQq108lT",
        "colab_type": "code",
        "outputId": "ae7a6846-3f0f-4630-b5ee-75221cba8273",
        "colab": {
          "base_uri": "https://localhost:8080/",
          "height": 349
        }
      },
      "source": [
        "from pandasql import sqldf\n",
        "\n",
        "pysqldf = lambda x : sqldf(x, globals())\n",
        "q = \"\"\"\n",
        "SELECT origin, AVG(status) as avg_status\n",
        "FROM train_df\n",
        "GROUP BY origin\n",
        "ORDER BY avg_status DESC\n",
        "LIMIT 10\n",
        "\"\"\"\n",
        "\n",
        "top_10_stations = pysqldf(q)\n",
        "ax = sb.scatterplot(x=top_10_stations['origin'], \n",
        "                    y=top_10_stations['avg_status'])\n",
        "plt.title(\"Scatter plot of top 10 stations by average delay\")\n",
        "plt.xlabel(\"Station\")\n",
        "plt.ylabel(\"Average Delay\")\n",
        "ax.set_xticklabels(labels=top_10_stations['origin'], rotation=45)\n",
        "plt.show()"
      ],
      "execution_count": 0,
      "outputs": [
        {
          "output_type": "display_data",
          "data": {
            "image/png": "[encoded data removed]",
            "text/plain": [
              "<Figure size 432x288 with 1 Axes>"
            ]
          },
          "metadata": {
            "tags": [],
            "needs_background": "light"
          }
        }
      ]
    },
    {
      "cell_type": "markdown",
      "metadata": {
        "id": "aHElDmQSaiNP",
        "colab_type": "text"
      },
      "source": [
        "Looks like the Gwynedd Valley trains are super, super late -- almost 2x as late as any other train stations. What's worth noting here is that this is likely result of an unfortunate day (i.e. one day, all of these trains were super late as the result of an accident, etc). Let's confirm this:"
      ]
    },
    {
      "cell_type": "code",
      "metadata": {
        "id": "KYyZ0W7haZgC",
        "colab_type": "code",
        "outputId": "0e25d5f3-4168-49b3-9833-0bb31b697596",
        "colab": {
          "base_uri": "https://localhost:8080/",
          "height": 328
        }
      },
      "source": [
        "train_df[train_df['origin'] == 'Gwynedd Valley']"
      ],
      "execution_count": 0,
      "outputs": [
        {
          "output_type": "execute_result",
          "data": {
            "text/html": [
              "<div>\n",
              "<style scoped>\n",
              "    .dataframe tbody tr th:only-of-type {\n",
              "        vertical-align: middle;\n",
              "    }\n",
              "\n",
              "    .dataframe tbody tr th {\n",
              "        vertical-align: top;\n",
              "    }\n",
              "\n",
              "    .dataframe thead th {\n",
              "        text-align: right;\n",
              "    }\n",
              "</style>\n",
              "<table border=\"1\" class=\"dataframe\">\n",
              "  <thead>\n",
              "    <tr style=\"text-align: right;\">\n",
              "      <th></th>\n",
              "      <th>train_id</th>\n",
              "      <th>direction</th>\n",
              "      <th>origin</th>\n",
              "      <th>next_station</th>\n",
              "      <th>date</th>\n",
              "      <th>status</th>\n",
              "      <th>timeStamp</th>\n",
              "      <th>year</th>\n",
              "      <th>month</th>\n",
              "      <th>day</th>\n",
              "      <th>hour</th>\n",
              "      <th>minute</th>\n",
              "      <th>second</th>\n",
              "      <th>weekday</th>\n",
              "      <th>weekday_num</th>\n",
              "    </tr>\n",
              "  </thead>\n",
              "  <tbody>\n",
              "    <tr>\n",
              "      <th>1841399</th>\n",
              "      <td>583.</td>\n",
              "      <td>S</td>\n",
              "      <td>Gwynedd Valley</td>\n",
              "      <td>Penllyn</td>\n",
              "      <td>2016-11-01</td>\n",
              "      <td>64</td>\n",
              "      <td>2016-11-01 21:06:32</td>\n",
              "      <td>2016</td>\n",
              "      <td>11</td>\n",
              "      <td>1</td>\n",
              "      <td>21</td>\n",
              "      <td>6</td>\n",
              "      <td>32</td>\n",
              "      <td>Tues</td>\n",
              "      <td>1</td>\n",
              "    </tr>\n",
              "    <tr>\n",
              "      <th>1841403</th>\n",
              "      <td>583.</td>\n",
              "      <td>S</td>\n",
              "      <td>Gwynedd Valley</td>\n",
              "      <td>Ambler</td>\n",
              "      <td>2016-11-01</td>\n",
              "      <td>64</td>\n",
              "      <td>2016-11-01 21:07:19</td>\n",
              "      <td>2016</td>\n",
              "      <td>11</td>\n",
              "      <td>1</td>\n",
              "      <td>21</td>\n",
              "      <td>7</td>\n",
              "      <td>19</td>\n",
              "      <td>Tues</td>\n",
              "      <td>1</td>\n",
              "    </tr>\n",
              "    <tr>\n",
              "      <th>1841432</th>\n",
              "      <td>583.</td>\n",
              "      <td>S</td>\n",
              "      <td>Gwynedd Valley</td>\n",
              "      <td>North Hills</td>\n",
              "      <td>2016-11-01</td>\n",
              "      <td>62</td>\n",
              "      <td>2016-11-01 21:16:02</td>\n",
              "      <td>2016</td>\n",
              "      <td>11</td>\n",
              "      <td>1</td>\n",
              "      <td>21</td>\n",
              "      <td>16</td>\n",
              "      <td>2</td>\n",
              "      <td>Tues</td>\n",
              "      <td>1</td>\n",
              "    </tr>\n",
              "    <tr>\n",
              "      <th>1841442</th>\n",
              "      <td>583.</td>\n",
              "      <td>S</td>\n",
              "      <td>Gwynedd Valley</td>\n",
              "      <td>Glenside</td>\n",
              "      <td>2016-11-01</td>\n",
              "      <td>62</td>\n",
              "      <td>2016-11-01 21:18:55</td>\n",
              "      <td>2016</td>\n",
              "      <td>11</td>\n",
              "      <td>1</td>\n",
              "      <td>21</td>\n",
              "      <td>18</td>\n",
              "      <td>55</td>\n",
              "      <td>Tues</td>\n",
              "      <td>1</td>\n",
              "    </tr>\n",
              "    <tr>\n",
              "      <th>1841450</th>\n",
              "      <td>583.</td>\n",
              "      <td>S</td>\n",
              "      <td>Gwynedd Valley</td>\n",
              "      <td>Jenkintown-Wyncote</td>\n",
              "      <td>2016-11-01</td>\n",
              "      <td>62</td>\n",
              "      <td>2016-11-01 21:21:12</td>\n",
              "      <td>2016</td>\n",
              "      <td>11</td>\n",
              "      <td>1</td>\n",
              "      <td>21</td>\n",
              "      <td>21</td>\n",
              "      <td>12</td>\n",
              "      <td>Tues</td>\n",
              "      <td>1</td>\n",
              "    </tr>\n",
              "    <tr>\n",
              "      <th>1841533</th>\n",
              "      <td>583.</td>\n",
              "      <td>S</td>\n",
              "      <td>Gwynedd Valley</td>\n",
              "      <td>Temple U</td>\n",
              "      <td>2016-11-01</td>\n",
              "      <td>67</td>\n",
              "      <td>2016-11-01 21:40:26</td>\n",
              "      <td>2016</td>\n",
              "      <td>11</td>\n",
              "      <td>1</td>\n",
              "      <td>21</td>\n",
              "      <td>40</td>\n",
              "      <td>26</td>\n",
              "      <td>Tues</td>\n",
              "      <td>1</td>\n",
              "    </tr>\n",
              "    <tr>\n",
              "      <th>1841585</th>\n",
              "      <td>583.</td>\n",
              "      <td>S</td>\n",
              "      <td>Gwynedd Valley</td>\n",
              "      <td>Jefferson Station</td>\n",
              "      <td>2016-11-01</td>\n",
              "      <td>72</td>\n",
              "      <td>2016-11-01 21:50:26</td>\n",
              "      <td>2016</td>\n",
              "      <td>11</td>\n",
              "      <td>1</td>\n",
              "      <td>21</td>\n",
              "      <td>50</td>\n",
              "      <td>26</td>\n",
              "      <td>Tues</td>\n",
              "      <td>1</td>\n",
              "    </tr>\n",
              "    <tr>\n",
              "      <th>1841627</th>\n",
              "      <td>583.</td>\n",
              "      <td>S</td>\n",
              "      <td>Gwynedd Valley</td>\n",
              "      <td>30th Street Station</td>\n",
              "      <td>2016-11-01</td>\n",
              "      <td>74</td>\n",
              "      <td>2016-11-01 22:00:42</td>\n",
              "      <td>2016</td>\n",
              "      <td>11</td>\n",
              "      <td>1</td>\n",
              "      <td>22</td>\n",
              "      <td>0</td>\n",
              "      <td>42</td>\n",
              "      <td>Tues</td>\n",
              "      <td>1</td>\n",
              "    </tr>\n",
              "    <tr>\n",
              "      <th>1841673</th>\n",
              "      <td>583.</td>\n",
              "      <td>S</td>\n",
              "      <td>Gwynedd Valley</td>\n",
              "      <td>Overbrook</td>\n",
              "      <td>2016-11-01</td>\n",
              "      <td>75</td>\n",
              "      <td>2016-11-01 22:10:45</td>\n",
              "      <td>2016</td>\n",
              "      <td>11</td>\n",
              "      <td>1</td>\n",
              "      <td>22</td>\n",
              "      <td>10</td>\n",
              "      <td>45</td>\n",
              "      <td>Tues</td>\n",
              "      <td>1</td>\n",
              "    </tr>\n",
              "  </tbody>\n",
              "</table>\n",
              "</div>"
            ],
            "text/plain": [
              "        train_id direction          origin  ... second weekday  weekday_num\n",
              "1841399     583.         S  Gwynedd Valley  ...     32    Tues            1\n",
              "1841403     583.         S  Gwynedd Valley  ...     19    Tues            1\n",
              "1841432     583.         S  Gwynedd Valley  ...      2    Tues            1\n",
              "1841442     583.         S  Gwynedd Valley  ...     55    Tues            1\n",
              "1841450     583.         S  Gwynedd Valley  ...     12    Tues            1\n",
              "1841533     583.         S  Gwynedd Valley  ...     26    Tues            1\n",
              "1841585     583.         S  Gwynedd Valley  ...     26    Tues            1\n",
              "1841627     583.         S  Gwynedd Valley  ...     42    Tues            1\n",
              "1841673     583.         S  Gwynedd Valley  ...     45    Tues            1\n",
              "\n",
              "[9 rows x 15 columns]"
            ]
          },
          "metadata": {
            "tags": []
          },
          "execution_count": 76
        }
      ]
    },
    {
      "cell_type": "markdown",
      "metadata": {
        "id": "i-OIk1uuefaL",
        "colab_type": "text"
      },
      "source": [
        "Indeed, it looks like November 1th was a tough day for trains originating out of Gwynedd Valley. \n",
        "\n",
        "Let's regenerate this plot, but this time, require a minimum number of trains from this origin (to ensure that we're not getting too skewed by one-time events)."
      ]
    },
    {
      "cell_type": "code",
      "metadata": {
        "id": "Bvp9Sv0qv5CE",
        "colab_type": "code",
        "outputId": "6dde08f9-7c5a-45c9-f902-7a8bc83cf9d0",
        "colab": {
          "base_uri": "https://localhost:8080/",
          "height": 351
        }
      },
      "source": [
        "q = \"\"\"\n",
        "SELECT origin, COUNT(origin) as num, AVG(status) as avg_delay\n",
        "FROM train_df\n",
        "GROUP BY origin\n",
        "ORDER BY num DESC\n",
        "\"\"\"\n",
        "\n",
        "temp = pysqldf(q)\n",
        "temp = temp[temp['num'] > 1000]\n",
        "top_10_stations = temp.sort_values(by=['avg_delay'], ascending=False)[0:10]\n",
        "ax = sb.scatterplot(x=top_10_stations['origin'], \n",
        "                    y=top_10_stations['avg_delay'])\n",
        "plt.title(\"Scatter plot of top 10 stations by average delay\")\n",
        "plt.xlabel(\"Station\")\n",
        "plt.ylabel(\"Average Delay\")\n",
        "ax.set_xticklabels(labels=top_10_stations['origin'], rotation=45)\n",
        "plt.show()"
      ],
      "execution_count": 0,
      "outputs": [
        {
          "output_type": "display_data",
          "data": {
            "image/png": "[encoded data removed]",
            "text/plain": [
              "<Figure size 432x288 with 1 Axes>"
            ]
          },
          "metadata": {
            "tags": [],
            "needs_background": "light"
          }
        }
      ]
    },
    {
      "cell_type": "markdown",
      "metadata": {
        "id": "ITXBeBblcWEL",
        "colab_type": "text"
      },
      "source": [
        "This is a little better -- we can now see that trains coming out of the Main St station are, on average, a bit later than many other trains. We can also be more convinced that Main St is a real culprit, as it has over 1000 entries in our train dataframe. Let's do the same analysis, but for next_destination."
      ]
    },
    {
      "cell_type": "code",
      "metadata": {
        "id": "A1AyURt1cYtB",
        "colab_type": "code",
        "outputId": "ab53733e-8213-4ed7-e93f-0a18b6b0108a",
        "colab": {
          "base_uri": "https://localhost:8080/",
          "height": 357
        }
      },
      "source": [
        "q = \"\"\"\n",
        "SELECT next_station, COUNT(origin) as num, AVG(status) as avg_delay\n",
        "FROM train_df\n",
        "GROUP BY next_station\n",
        "ORDER BY num DESC\n",
        "\"\"\"\n",
        "\n",
        "#temp = pysqldf(q)\n",
        "temp = temp[temp['num'] > 1000]\n",
        "top_10_stations = temp.sort_values(by=['avg_delay'], ascending=False)[0:10]\n",
        "ax = sb.scatterplot(x=top_10_stations['next_station'], \n",
        "                    y=top_10_stations['avg_delay'])\n",
        "plt.title(\"Scatter plot of top 10 stations by average delay\")\n",
        "plt.xlabel(\"Station\")\n",
        "plt.ylabel(\"Average Delay\")\n",
        "ax.set_xticklabels(labels=top_10_stations['next_station'], rotation=45)\n",
        "plt.show()"
      ],
      "execution_count": 0,
      "outputs": [
        {
          "output_type": "display_data",
          "data": {
            "image/png": "[encoded data removed]",
            "text/plain": [
              "<Figure size 432x288 with 1 Axes>"
            ]
          },
          "metadata": {
            "tags": [],
            "needs_background": "light"
          }
        }
      ]
    },
    {
      "cell_type": "markdown",
      "metadata": {
        "id": "Ok7WW9LbmQcd",
        "colab_type": "text"
      },
      "source": [
        "Looks like trains coming into Thorndale are, on average, much later than trains coming into any other station. \n",
        "\n",
        "Moral of this section: don't take a train going from Main St to Thorndale!"
      ]
    },
    {
      "cell_type": "markdown",
      "metadata": {
        "id": "BT8s5KNz08wG",
        "colab_type": "text"
      },
      "source": [
        "## Part 2: Delay Prediction\n",
        "\n",
        "In this section, we explore PCA (dimensionality reduction) and Random Forests, and whether or not we can accurately predict a train's delay given its timestamp, origin, next station, and direction. \n",
        "\n",
        "Random Forests (in this case) are a natural choice -- as delays can likely be predicted in a very decision-tree-like fashion (i.e. what time is it? is the train arriving from this station? is it going to this station? etc)."
      ]
    },
    {
      "cell_type": "markdown",
      "metadata": {
        "id": "mIuQoX1c1KP8",
        "colab_type": "text"
      },
      "source": [
        "#### 2.1 Setup and encoding for machine learning.\n",
        "\n",
        "In this part, we'll be dropping all irrelevant columns and encoding all categorical data w/ one-hot vectors. We will include time information (month, day, hour, minute, second, and weekday_num) columns, as this may provide useful information to our machine learning models. "
      ]
    },
    {
      "cell_type": "code",
      "metadata": {
        "id": "KImgh0ZS1R9L",
        "colab_type": "code",
        "outputId": "fcb19ff6-2ef2-4039-eaab-1d6e95ae2d76",
        "colab": {
          "base_uri": "https://localhost:8080/",
          "height": 419
        }
      },
      "source": [
        "train_df"
      ],
      "execution_count": 0,
      "outputs": [
        {
          "output_type": "execute_result",
          "data": {
            "text/html": [
              "<div>\n",
              "<style scoped>\n",
              "    .dataframe tbody tr th:only-of-type {\n",
              "        vertical-align: middle;\n",
              "    }\n",
              "\n",
              "    .dataframe tbody tr th {\n",
              "        vertical-align: top;\n",
              "    }\n",
              "\n",
              "    .dataframe thead th {\n",
              "        text-align: right;\n",
              "    }\n",
              "</style>\n",
              "<table border=\"1\" class=\"dataframe\">\n",
              "  <thead>\n",
              "    <tr style=\"text-align: right;\">\n",
              "      <th></th>\n",
              "      <th>train_id</th>\n",
              "      <th>direction</th>\n",
              "      <th>origin</th>\n",
              "      <th>next_station</th>\n",
              "      <th>date</th>\n",
              "      <th>status</th>\n",
              "      <th>timeStamp</th>\n",
              "      <th>year</th>\n",
              "      <th>month</th>\n",
              "      <th>day</th>\n",
              "      <th>hour</th>\n",
              "      <th>minute</th>\n",
              "      <th>second</th>\n",
              "      <th>weekday</th>\n",
              "    </tr>\n",
              "  </thead>\n",
              "  <tbody>\n",
              "    <tr>\n",
              "      <th>0</th>\n",
              "      <td>778</td>\n",
              "      <td>N</td>\n",
              "      <td>Trenton</td>\n",
              "      <td>Stenton</td>\n",
              "      <td>2016-03-23</td>\n",
              "      <td>1</td>\n",
              "      <td>2016-03-23 00:01:47</td>\n",
              "      <td>2016</td>\n",
              "      <td>3</td>\n",
              "      <td>23</td>\n",
              "      <td>0</td>\n",
              "      <td>1</td>\n",
              "      <td>47</td>\n",
              "      <td>Wed</td>\n",
              "    </tr>\n",
              "    <tr>\n",
              "      <th>1</th>\n",
              "      <td>598</td>\n",
              "      <td>N</td>\n",
              "      <td>Thorndale</td>\n",
              "      <td>Narberth</td>\n",
              "      <td>2016-03-23</td>\n",
              "      <td>1</td>\n",
              "      <td>2016-03-23 00:01:58</td>\n",
              "      <td>2016</td>\n",
              "      <td>3</td>\n",
              "      <td>23</td>\n",
              "      <td>0</td>\n",
              "      <td>1</td>\n",
              "      <td>58</td>\n",
              "      <td>Wed</td>\n",
              "    </tr>\n",
              "    <tr>\n",
              "      <th>2</th>\n",
              "      <td>279</td>\n",
              "      <td>S</td>\n",
              "      <td>Elm</td>\n",
              "      <td>Ridley Park</td>\n",
              "      <td>2016-03-23</td>\n",
              "      <td>2</td>\n",
              "      <td>2016-03-23 00:02:02</td>\n",
              "      <td>2016</td>\n",
              "      <td>3</td>\n",
              "      <td>23</td>\n",
              "      <td>0</td>\n",
              "      <td>2</td>\n",
              "      <td>2</td>\n",
              "      <td>Wed</td>\n",
              "    </tr>\n",
              "    <tr>\n",
              "      <th>3</th>\n",
              "      <td>476</td>\n",
              "      <td>N</td>\n",
              "      <td>Airport Terminal E-F</td>\n",
              "      <td>Suburban Station</td>\n",
              "      <td>2016-03-23</td>\n",
              "      <td>0</td>\n",
              "      <td>2016-03-23 00:03:19</td>\n",
              "      <td>2016</td>\n",
              "      <td>3</td>\n",
              "      <td>23</td>\n",
              "      <td>0</td>\n",
              "      <td>3</td>\n",
              "      <td>19</td>\n",
              "      <td>Wed</td>\n",
              "    </tr>\n",
              "    <tr>\n",
              "      <th>4</th>\n",
              "      <td>474</td>\n",
              "      <td>N</td>\n",
              "      <td>Airport Terminal E-F</td>\n",
              "      <td>Jenkintown-Wyncote</td>\n",
              "      <td>2016-03-23</td>\n",
              "      <td>0</td>\n",
              "      <td>2016-03-23 00:03:35</td>\n",
              "      <td>2016</td>\n",
              "      <td>3</td>\n",
              "      <td>23</td>\n",
              "      <td>0</td>\n",
              "      <td>3</td>\n",
              "      <td>35</td>\n",
              "      <td>Wed</td>\n",
              "    </tr>\n",
              "    <tr>\n",
              "      <th>...</th>\n",
              "      <td>...</td>\n",
              "      <td>...</td>\n",
              "      <td>...</td>\n",
              "      <td>...</td>\n",
              "      <td>...</td>\n",
              "      <td>...</td>\n",
              "      <td>...</td>\n",
              "      <td>...</td>\n",
              "      <td>...</td>\n",
              "      <td>...</td>\n",
              "      <td>...</td>\n",
              "      <td>...</td>\n",
              "      <td>...</td>\n",
              "      <td>...</td>\n",
              "    </tr>\n",
              "    <tr>\n",
              "      <th>1882010</th>\n",
              "      <td>3520</td>\n",
              "      <td>N</td>\n",
              "      <td>Elwyn</td>\n",
              "      <td>University City</td>\n",
              "      <td>2016-11-06</td>\n",
              "      <td>12</td>\n",
              "      <td>2016-11-06 12:16:59</td>\n",
              "      <td>2016</td>\n",
              "      <td>11</td>\n",
              "      <td>6</td>\n",
              "      <td>12</td>\n",
              "      <td>16</td>\n",
              "      <td>59</td>\n",
              "      <td>Sun</td>\n",
              "    </tr>\n",
              "    <tr>\n",
              "      <th>1882011</th>\n",
              "      <td>215</td>\n",
              "      <td>S</td>\n",
              "      <td>Elm</td>\n",
              "      <td>Allegheny</td>\n",
              "      <td>2016-11-06</td>\n",
              "      <td>7</td>\n",
              "      <td>2016-11-06 12:17:01</td>\n",
              "      <td>2016</td>\n",
              "      <td>11</td>\n",
              "      <td>6</td>\n",
              "      <td>12</td>\n",
              "      <td>17</td>\n",
              "      <td>1</td>\n",
              "      <td>Sun</td>\n",
              "    </tr>\n",
              "    <tr>\n",
              "      <th>1882012</th>\n",
              "      <td>214</td>\n",
              "      <td>N</td>\n",
              "      <td>None</td>\n",
              "      <td>None</td>\n",
              "      <td>2016-11-06</td>\n",
              "      <td>0</td>\n",
              "      <td>2016-11-06 12:17:01</td>\n",
              "      <td>2016</td>\n",
              "      <td>11</td>\n",
              "      <td>6</td>\n",
              "      <td>12</td>\n",
              "      <td>17</td>\n",
              "      <td>1</td>\n",
              "      <td>Sun</td>\n",
              "    </tr>\n",
              "    <tr>\n",
              "      <th>1882013</th>\n",
              "      <td>5338</td>\n",
              "      <td>N</td>\n",
              "      <td>None</td>\n",
              "      <td>None</td>\n",
              "      <td>2016-11-06</td>\n",
              "      <td>0</td>\n",
              "      <td>2016-11-06 12:17:02</td>\n",
              "      <td>2016</td>\n",
              "      <td>11</td>\n",
              "      <td>6</td>\n",
              "      <td>12</td>\n",
              "      <td>17</td>\n",
              "      <td>2</td>\n",
              "      <td>Sun</td>\n",
              "    </tr>\n",
              "    <tr>\n",
              "      <th>1882014</th>\n",
              "      <td>3531</td>\n",
              "      <td>S</td>\n",
              "      <td>West Trenton</td>\n",
              "      <td>Suburban Station</td>\n",
              "      <td>2016-11-06</td>\n",
              "      <td>17</td>\n",
              "      <td>2016-11-06 12:17:02</td>\n",
              "      <td>2016</td>\n",
              "      <td>11</td>\n",
              "      <td>6</td>\n",
              "      <td>12</td>\n",
              "      <td>17</td>\n",
              "      <td>2</td>\n",
              "      <td>Sun</td>\n",
              "    </tr>\n",
              "  </tbody>\n",
              "</table>\n",
              "<p>1882015 rows × 14 columns</p>\n",
              "</div>"
            ],
            "text/plain": [
              "        train_id direction                origin  ... minute second  weekday\n",
              "0            778         N               Trenton  ...      1     47      Wed\n",
              "1            598         N             Thorndale  ...      1     58      Wed\n",
              "2            279         S                   Elm  ...      2      2      Wed\n",
              "3            476         N  Airport Terminal E-F  ...      3     19      Wed\n",
              "4            474         N  Airport Terminal E-F  ...      3     35      Wed\n",
              "...          ...       ...                   ...  ...    ...    ...      ...\n",
              "1882010     3520         N                 Elwyn  ...     16     59      Sun\n",
              "1882011      215         S                   Elm  ...     17      1      Sun\n",
              "1882012      214         N                  None  ...     17      1      Sun\n",
              "1882013     5338         N                  None  ...     17      2      Sun\n",
              "1882014     3531         S          West Trenton  ...     17      2      Sun\n",
              "\n",
              "[1882015 rows x 14 columns]"
            ]
          },
          "metadata": {
            "tags": []
          },
          "execution_count": 140
        }
      ]
    },
    {
      "cell_type": "code",
      "metadata": {
        "id": "5E82ojKx1qvY",
        "colab_type": "code",
        "colab": {}
      },
      "source": [
        "train_df_clean = train_df.drop(labels=['train_id', 'weekday', 'date', 'year', \n",
        "                                       'timeStamp', 'date'], \n",
        "                               axis=1)"
      ],
      "execution_count": 0,
      "outputs": []
    },
    {
      "cell_type": "markdown",
      "metadata": {
        "id": "j-mAtD6imhJu",
        "colab_type": "text"
      },
      "source": [
        "#### 2.2 One-hot encoding \n",
        "\n",
        "Let's one-hot encode the categorical columns that we care about! We expect to see a very large resulting DF, as there is a large number of origins/destinations. "
      ]
    },
    {
      "cell_type": "code",
      "metadata": {
        "id": "WBj0MeWq2hcU",
        "colab_type": "code",
        "colab": {}
      },
      "source": [
        "train_df_clean = pd.get_dummies(train_df_clean, columns=[\"direction\", \"origin\",\n",
        "                      \"next_station\"])"
      ],
      "execution_count": 0,
      "outputs": []
    },
    {
      "cell_type": "code",
      "metadata": {
        "id": "WF2FhATZ3n8o",
        "colab_type": "code",
        "outputId": "d4b9b42a-d199-4d6b-b363-995b8b99428e",
        "colab": {
          "base_uri": "https://localhost:8080/",
          "height": 473
        }
      },
      "source": [
        "train_df_clean"
      ],
      "execution_count": 0,
      "outputs": [
        {
          "output_type": "execute_result",
          "data": {
            "text/html": [
              "<div>\n",
              "<style scoped>\n",
              "    .dataframe tbody tr th:only-of-type {\n",
              "        vertical-align: middle;\n",
              "    }\n",
              "\n",
              "    .dataframe tbody tr th {\n",
              "        vertical-align: top;\n",
              "    }\n",
              "\n",
              "    .dataframe thead th {\n",
              "        text-align: right;\n",
              "    }\n",
              "</style>\n",
              "<table border=\"1\" class=\"dataframe\">\n",
              "  <thead>\n",
              "    <tr style=\"text-align: right;\">\n",
              "      <th></th>\n",
              "      <th>status</th>\n",
              "      <th>month</th>\n",
              "      <th>day</th>\n",
              "      <th>hour</th>\n",
              "      <th>minute</th>\n",
              "      <th>second</th>\n",
              "      <th>weekday_num</th>\n",
              "      <th>direction_N</th>\n",
              "      <th>direction_S</th>\n",
              "      <th>origin_16th St Jct</th>\n",
              "      <th>origin_20th St</th>\n",
              "      <th>origin_30th South</th>\n",
              "      <th>origin_30th Street Station</th>\n",
              "      <th>origin_49th St</th>\n",
              "      <th>origin_60th St North</th>\n",
              "      <th>origin_9th St</th>\n",
              "      <th>origin_Airport Jct</th>\n",
              "      <th>origin_Airport Terminal A</th>\n",
              "      <th>origin_Airport Terminal B</th>\n",
              "      <th>origin_Airport Terminal C-D</th>\n",
              "      <th>origin_Airport Terminal E-F</th>\n",
              "      <th>origin_Allegheny</th>\n",
              "      <th>origin_Allen Lane</th>\n",
              "      <th>origin_Ambler</th>\n",
              "      <th>origin_Angora</th>\n",
              "      <th>origin_Ardmore</th>\n",
              "      <th>origin_Ardsley</th>\n",
              "      <th>origin_Arsenal</th>\n",
              "      <th>origin_Bala</th>\n",
              "      <th>origin_Bethayres</th>\n",
              "      <th>origin_Bridge</th>\n",
              "      <th>origin_Bristol</th>\n",
              "      <th>origin_Broad</th>\n",
              "      <th>origin_Bryn Mawr</th>\n",
              "      <th>origin_Bryn Mawr Int</th>\n",
              "      <th>origin_CP-North Elwyn</th>\n",
              "      <th>origin_CP-Wood</th>\n",
              "      <th>origin_Cane</th>\n",
              "      <th>origin_Carmel</th>\n",
              "      <th>origin_Carmel South</th>\n",
              "      <th>...</th>\n",
              "      <th>next_station_Roslyn</th>\n",
              "      <th>next_station_Rydal</th>\n",
              "      <th>next_station_Ryers</th>\n",
              "      <th>next_station_Secane</th>\n",
              "      <th>next_station_Sedgwick</th>\n",
              "      <th>next_station_Sharon Hill</th>\n",
              "      <th>next_station_Somerton</th>\n",
              "      <th>next_station_Spring Mill</th>\n",
              "      <th>next_station_St. Davids</th>\n",
              "      <th>next_station_St. Martins</th>\n",
              "      <th>next_station_Stenton</th>\n",
              "      <th>next_station_Strafford</th>\n",
              "      <th>next_station_Suburban Station</th>\n",
              "      <th>next_station_Swarthmore</th>\n",
              "      <th>next_station_Tacony</th>\n",
              "      <th>next_station_Temple U</th>\n",
              "      <th>next_station_Thorndale</th>\n",
              "      <th>next_station_Torresdale</th>\n",
              "      <th>next_station_Trenton</th>\n",
              "      <th>next_station_Trevose</th>\n",
              "      <th>next_station_Tulpehocken</th>\n",
              "      <th>next_station_University City</th>\n",
              "      <th>next_station_Upsal</th>\n",
              "      <th>next_station_Villanova</th>\n",
              "      <th>next_station_Wallingford</th>\n",
              "      <th>next_station_Warminster</th>\n",
              "      <th>next_station_Washington Lane</th>\n",
              "      <th>next_station_Wayne Jct</th>\n",
              "      <th>next_station_Wayne-A</th>\n",
              "      <th>next_station_West Trenton</th>\n",
              "      <th>next_station_Whitford</th>\n",
              "      <th>next_station_Willow Grove</th>\n",
              "      <th>next_station_Wilmington</th>\n",
              "      <th>next_station_Wissahickon</th>\n",
              "      <th>next_station_Wister</th>\n",
              "      <th>next_station_Woodbourne</th>\n",
              "      <th>next_station_Wyndmoor</th>\n",
              "      <th>next_station_Wynnefield Avenue</th>\n",
              "      <th>next_station_Wynnewood</th>\n",
              "      <th>next_station_Yardley</th>\n",
              "    </tr>\n",
              "  </thead>\n",
              "  <tbody>\n",
              "    <tr>\n",
              "      <th>0</th>\n",
              "      <td>1</td>\n",
              "      <td>3</td>\n",
              "      <td>23</td>\n",
              "      <td>0</td>\n",
              "      <td>1</td>\n",
              "      <td>47</td>\n",
              "      <td>2</td>\n",
              "      <td>1</td>\n",
              "      <td>0</td>\n",
              "      <td>0</td>\n",
              "      <td>0</td>\n",
              "      <td>0</td>\n",
              "      <td>0</td>\n",
              "      <td>0</td>\n",
              "      <td>0</td>\n",
              "      <td>0</td>\n",
              "      <td>0</td>\n",
              "      <td>0</td>\n",
              "      <td>0</td>\n",
              "      <td>0</td>\n",
              "      <td>0</td>\n",
              "      <td>0</td>\n",
              "      <td>0</td>\n",
              "      <td>0</td>\n",
              "      <td>0</td>\n",
              "      <td>0</td>\n",
              "      <td>0</td>\n",
              "      <td>0</td>\n",
              "      <td>0</td>\n",
              "      <td>0</td>\n",
              "      <td>0</td>\n",
              "      <td>0</td>\n",
              "      <td>0</td>\n",
              "      <td>0</td>\n",
              "      <td>0</td>\n",
              "      <td>0</td>\n",
              "      <td>0</td>\n",
              "      <td>0</td>\n",
              "      <td>0</td>\n",
              "      <td>0</td>\n",
              "      <td>...</td>\n",
              "      <td>0</td>\n",
              "      <td>0</td>\n",
              "      <td>0</td>\n",
              "      <td>0</td>\n",
              "      <td>0</td>\n",
              "      <td>0</td>\n",
              "      <td>0</td>\n",
              "      <td>0</td>\n",
              "      <td>0</td>\n",
              "      <td>0</td>\n",
              "      <td>1</td>\n",
              "      <td>0</td>\n",
              "      <td>0</td>\n",
              "      <td>0</td>\n",
              "      <td>0</td>\n",
              "      <td>0</td>\n",
              "      <td>0</td>\n",
              "      <td>0</td>\n",
              "      <td>0</td>\n",
              "      <td>0</td>\n",
              "      <td>0</td>\n",
              "      <td>0</td>\n",
              "      <td>0</td>\n",
              "      <td>0</td>\n",
              "      <td>0</td>\n",
              "      <td>0</td>\n",
              "      <td>0</td>\n",
              "      <td>0</td>\n",
              "      <td>0</td>\n",
              "      <td>0</td>\n",
              "      <td>0</td>\n",
              "      <td>0</td>\n",
              "      <td>0</td>\n",
              "      <td>0</td>\n",
              "      <td>0</td>\n",
              "      <td>0</td>\n",
              "      <td>0</td>\n",
              "      <td>0</td>\n",
              "      <td>0</td>\n",
              "      <td>0</td>\n",
              "    </tr>\n",
              "    <tr>\n",
              "      <th>1</th>\n",
              "      <td>1</td>\n",
              "      <td>3</td>\n",
              "      <td>23</td>\n",
              "      <td>0</td>\n",
              "      <td>1</td>\n",
              "      <td>58</td>\n",
              "      <td>2</td>\n",
              "      <td>1</td>\n",
              "      <td>0</td>\n",
              "      <td>0</td>\n",
              "      <td>0</td>\n",
              "      <td>0</td>\n",
              "      <td>0</td>\n",
              "      <td>0</td>\n",
              "      <td>0</td>\n",
              "      <td>0</td>\n",
              "      <td>0</td>\n",
              "      <td>0</td>\n",
              "      <td>0</td>\n",
              "      <td>0</td>\n",
              "      <td>0</td>\n",
              "      <td>0</td>\n",
              "      <td>0</td>\n",
              "      <td>0</td>\n",
              "      <td>0</td>\n",
              "      <td>0</td>\n",
              "      <td>0</td>\n",
              "      <td>0</td>\n",
              "      <td>0</td>\n",
              "      <td>0</td>\n",
              "      <td>0</td>\n",
              "      <td>0</td>\n",
              "      <td>0</td>\n",
              "      <td>0</td>\n",
              "      <td>0</td>\n",
              "      <td>0</td>\n",
              "      <td>0</td>\n",
              "      <td>0</td>\n",
              "      <td>0</td>\n",
              "      <td>0</td>\n",
              "      <td>...</td>\n",
              "      <td>0</td>\n",
              "      <td>0</td>\n",
              "      <td>0</td>\n",
              "      <td>0</td>\n",
              "      <td>0</td>\n",
              "      <td>0</td>\n",
              "      <td>0</td>\n",
              "      <td>0</td>\n",
              "      <td>0</td>\n",
              "      <td>0</td>\n",
              "      <td>0</td>\n",
              "      <td>0</td>\n",
              "      <td>0</td>\n",
              "      <td>0</td>\n",
              "      <td>0</td>\n",
              "      <td>0</td>\n",
              "      <td>0</td>\n",
              "      <td>0</td>\n",
              "      <td>0</td>\n",
              "      <td>0</td>\n",
              "      <td>0</td>\n",
              "      <td>0</td>\n",
              "      <td>0</td>\n",
              "      <td>0</td>\n",
              "      <td>0</td>\n",
              "      <td>0</td>\n",
              "      <td>0</td>\n",
              "      <td>0</td>\n",
              "      <td>0</td>\n",
              "      <td>0</td>\n",
              "      <td>0</td>\n",
              "      <td>0</td>\n",
              "      <td>0</td>\n",
              "      <td>0</td>\n",
              "      <td>0</td>\n",
              "      <td>0</td>\n",
              "      <td>0</td>\n",
              "      <td>0</td>\n",
              "      <td>0</td>\n",
              "      <td>0</td>\n",
              "    </tr>\n",
              "    <tr>\n",
              "      <th>2</th>\n",
              "      <td>2</td>\n",
              "      <td>3</td>\n",
              "      <td>23</td>\n",
              "      <td>0</td>\n",
              "      <td>2</td>\n",
              "      <td>2</td>\n",
              "      <td>2</td>\n",
              "      <td>0</td>\n",
              "      <td>1</td>\n",
              "      <td>0</td>\n",
              "      <td>0</td>\n",
              "      <td>0</td>\n",
              "      <td>0</td>\n",
              "      <td>0</td>\n",
              "      <td>0</td>\n",
              "      <td>0</td>\n",
              "      <td>0</td>\n",
              "      <td>0</td>\n",
              "      <td>0</td>\n",
              "      <td>0</td>\n",
              "      <td>0</td>\n",
              "      <td>0</td>\n",
              "      <td>0</td>\n",
              "      <td>0</td>\n",
              "      <td>0</td>\n",
              "      <td>0</td>\n",
              "      <td>0</td>\n",
              "      <td>0</td>\n",
              "      <td>0</td>\n",
              "      <td>0</td>\n",
              "      <td>0</td>\n",
              "      <td>0</td>\n",
              "      <td>0</td>\n",
              "      <td>0</td>\n",
              "      <td>0</td>\n",
              "      <td>0</td>\n",
              "      <td>0</td>\n",
              "      <td>0</td>\n",
              "      <td>0</td>\n",
              "      <td>0</td>\n",
              "      <td>...</td>\n",
              "      <td>0</td>\n",
              "      <td>0</td>\n",
              "      <td>0</td>\n",
              "      <td>0</td>\n",
              "      <td>0</td>\n",
              "      <td>0</td>\n",
              "      <td>0</td>\n",
              "      <td>0</td>\n",
              "      <td>0</td>\n",
              "      <td>0</td>\n",
              "      <td>0</td>\n",
              "      <td>0</td>\n",
              "      <td>0</td>\n",
              "      <td>0</td>\n",
              "      <td>0</td>\n",
              "      <td>0</td>\n",
              "      <td>0</td>\n",
              "      <td>0</td>\n",
              "      <td>0</td>\n",
              "      <td>0</td>\n",
              "      <td>0</td>\n",
              "      <td>0</td>\n",
              "      <td>0</td>\n",
              "      <td>0</td>\n",
              "      <td>0</td>\n",
              "      <td>0</td>\n",
              "      <td>0</td>\n",
              "      <td>0</td>\n",
              "      <td>0</td>\n",
              "      <td>0</td>\n",
              "      <td>0</td>\n",
              "      <td>0</td>\n",
              "      <td>0</td>\n",
              "      <td>0</td>\n",
              "      <td>0</td>\n",
              "      <td>0</td>\n",
              "      <td>0</td>\n",
              "      <td>0</td>\n",
              "      <td>0</td>\n",
              "      <td>0</td>\n",
              "    </tr>\n",
              "    <tr>\n",
              "      <th>3</th>\n",
              "      <td>0</td>\n",
              "      <td>3</td>\n",
              "      <td>23</td>\n",
              "      <td>0</td>\n",
              "      <td>3</td>\n",
              "      <td>19</td>\n",
              "      <td>2</td>\n",
              "      <td>1</td>\n",
              "      <td>0</td>\n",
              "      <td>0</td>\n",
              "      <td>0</td>\n",
              "      <td>0</td>\n",
              "      <td>0</td>\n",
              "      <td>0</td>\n",
              "      <td>0</td>\n",
              "      <td>0</td>\n",
              "      <td>0</td>\n",
              "      <td>0</td>\n",
              "      <td>0</td>\n",
              "      <td>0</td>\n",
              "      <td>1</td>\n",
              "      <td>0</td>\n",
              "      <td>0</td>\n",
              "      <td>0</td>\n",
              "      <td>0</td>\n",
              "      <td>0</td>\n",
              "      <td>0</td>\n",
              "      <td>0</td>\n",
              "      <td>0</td>\n",
              "      <td>0</td>\n",
              "      <td>0</td>\n",
              "      <td>0</td>\n",
              "      <td>0</td>\n",
              "      <td>0</td>\n",
              "      <td>0</td>\n",
              "      <td>0</td>\n",
              "      <td>0</td>\n",
              "      <td>0</td>\n",
              "      <td>0</td>\n",
              "      <td>0</td>\n",
              "      <td>...</td>\n",
              "      <td>0</td>\n",
              "      <td>0</td>\n",
              "      <td>0</td>\n",
              "      <td>0</td>\n",
              "      <td>0</td>\n",
              "      <td>0</td>\n",
              "      <td>0</td>\n",
              "      <td>0</td>\n",
              "      <td>0</td>\n",
              "      <td>0</td>\n",
              "      <td>0</td>\n",
              "      <td>0</td>\n",
              "      <td>1</td>\n",
              "      <td>0</td>\n",
              "      <td>0</td>\n",
              "      <td>0</td>\n",
              "      <td>0</td>\n",
              "      <td>0</td>\n",
              "      <td>0</td>\n",
              "      <td>0</td>\n",
              "      <td>0</td>\n",
              "      <td>0</td>\n",
              "      <td>0</td>\n",
              "      <td>0</td>\n",
              "      <td>0</td>\n",
              "      <td>0</td>\n",
              "      <td>0</td>\n",
              "      <td>0</td>\n",
              "      <td>0</td>\n",
              "      <td>0</td>\n",
              "      <td>0</td>\n",
              "      <td>0</td>\n",
              "      <td>0</td>\n",
              "      <td>0</td>\n",
              "      <td>0</td>\n",
              "      <td>0</td>\n",
              "      <td>0</td>\n",
              "      <td>0</td>\n",
              "      <td>0</td>\n",
              "      <td>0</td>\n",
              "    </tr>\n",
              "    <tr>\n",
              "      <th>4</th>\n",
              "      <td>0</td>\n",
              "      <td>3</td>\n",
              "      <td>23</td>\n",
              "      <td>0</td>\n",
              "      <td>3</td>\n",
              "      <td>35</td>\n",
              "      <td>2</td>\n",
              "      <td>1</td>\n",
              "      <td>0</td>\n",
              "      <td>0</td>\n",
              "      <td>0</td>\n",
              "      <td>0</td>\n",
              "      <td>0</td>\n",
              "      <td>0</td>\n",
              "      <td>0</td>\n",
              "      <td>0</td>\n",
              "      <td>0</td>\n",
              "      <td>0</td>\n",
              "      <td>0</td>\n",
              "      <td>0</td>\n",
              "      <td>1</td>\n",
              "      <td>0</td>\n",
              "      <td>0</td>\n",
              "      <td>0</td>\n",
              "      <td>0</td>\n",
              "      <td>0</td>\n",
              "      <td>0</td>\n",
              "      <td>0</td>\n",
              "      <td>0</td>\n",
              "      <td>0</td>\n",
              "      <td>0</td>\n",
              "      <td>0</td>\n",
              "      <td>0</td>\n",
              "      <td>0</td>\n",
              "      <td>0</td>\n",
              "      <td>0</td>\n",
              "      <td>0</td>\n",
              "      <td>0</td>\n",
              "      <td>0</td>\n",
              "      <td>0</td>\n",
              "      <td>...</td>\n",
              "      <td>0</td>\n",
              "      <td>0</td>\n",
              "      <td>0</td>\n",
              "      <td>0</td>\n",
              "      <td>0</td>\n",
              "      <td>0</td>\n",
              "      <td>0</td>\n",
              "      <td>0</td>\n",
              "      <td>0</td>\n",
              "      <td>0</td>\n",
              "      <td>0</td>\n",
              "      <td>0</td>\n",
              "      <td>0</td>\n",
              "      <td>0</td>\n",
              "      <td>0</td>\n",
              "      <td>0</td>\n",
              "      <td>0</td>\n",
              "      <td>0</td>\n",
              "      <td>0</td>\n",
              "      <td>0</td>\n",
              "      <td>0</td>\n",
              "      <td>0</td>\n",
              "      <td>0</td>\n",
              "      <td>0</td>\n",
              "      <td>0</td>\n",
              "      <td>0</td>\n",
              "      <td>0</td>\n",
              "      <td>0</td>\n",
              "      <td>0</td>\n",
              "      <td>0</td>\n",
              "      <td>0</td>\n",
              "      <td>0</td>\n",
              "      <td>0</td>\n",
              "      <td>0</td>\n",
              "      <td>0</td>\n",
              "      <td>0</td>\n",
              "      <td>0</td>\n",
              "      <td>0</td>\n",
              "      <td>0</td>\n",
              "      <td>0</td>\n",
              "    </tr>\n",
              "    <tr>\n",
              "      <th>...</th>\n",
              "      <td>...</td>\n",
              "      <td>...</td>\n",
              "      <td>...</td>\n",
              "      <td>...</td>\n",
              "      <td>...</td>\n",
              "      <td>...</td>\n",
              "      <td>...</td>\n",
              "      <td>...</td>\n",
              "      <td>...</td>\n",
              "      <td>...</td>\n",
              "      <td>...</td>\n",
              "      <td>...</td>\n",
              "      <td>...</td>\n",
              "      <td>...</td>\n",
              "      <td>...</td>\n",
              "      <td>...</td>\n",
              "      <td>...</td>\n",
              "      <td>...</td>\n",
              "      <td>...</td>\n",
              "      <td>...</td>\n",
              "      <td>...</td>\n",
              "      <td>...</td>\n",
              "      <td>...</td>\n",
              "      <td>...</td>\n",
              "      <td>...</td>\n",
              "      <td>...</td>\n",
              "      <td>...</td>\n",
              "      <td>...</td>\n",
              "      <td>...</td>\n",
              "      <td>...</td>\n",
              "      <td>...</td>\n",
              "      <td>...</td>\n",
              "      <td>...</td>\n",
              "      <td>...</td>\n",
              "      <td>...</td>\n",
              "      <td>...</td>\n",
              "      <td>...</td>\n",
              "      <td>...</td>\n",
              "      <td>...</td>\n",
              "      <td>...</td>\n",
              "      <td>...</td>\n",
              "      <td>...</td>\n",
              "      <td>...</td>\n",
              "      <td>...</td>\n",
              "      <td>...</td>\n",
              "      <td>...</td>\n",
              "      <td>...</td>\n",
              "      <td>...</td>\n",
              "      <td>...</td>\n",
              "      <td>...</td>\n",
              "      <td>...</td>\n",
              "      <td>...</td>\n",
              "      <td>...</td>\n",
              "      <td>...</td>\n",
              "      <td>...</td>\n",
              "      <td>...</td>\n",
              "      <td>...</td>\n",
              "      <td>...</td>\n",
              "      <td>...</td>\n",
              "      <td>...</td>\n",
              "      <td>...</td>\n",
              "      <td>...</td>\n",
              "      <td>...</td>\n",
              "      <td>...</td>\n",
              "      <td>...</td>\n",
              "      <td>...</td>\n",
              "      <td>...</td>\n",
              "      <td>...</td>\n",
              "      <td>...</td>\n",
              "      <td>...</td>\n",
              "      <td>...</td>\n",
              "      <td>...</td>\n",
              "      <td>...</td>\n",
              "      <td>...</td>\n",
              "      <td>...</td>\n",
              "      <td>...</td>\n",
              "      <td>...</td>\n",
              "      <td>...</td>\n",
              "      <td>...</td>\n",
              "      <td>...</td>\n",
              "      <td>...</td>\n",
              "    </tr>\n",
              "    <tr>\n",
              "      <th>1882010</th>\n",
              "      <td>12</td>\n",
              "      <td>11</td>\n",
              "      <td>6</td>\n",
              "      <td>12</td>\n",
              "      <td>16</td>\n",
              "      <td>59</td>\n",
              "      <td>6</td>\n",
              "      <td>1</td>\n",
              "      <td>0</td>\n",
              "      <td>0</td>\n",
              "      <td>0</td>\n",
              "      <td>0</td>\n",
              "      <td>0</td>\n",
              "      <td>0</td>\n",
              "      <td>0</td>\n",
              "      <td>0</td>\n",
              "      <td>0</td>\n",
              "      <td>0</td>\n",
              "      <td>0</td>\n",
              "      <td>0</td>\n",
              "      <td>0</td>\n",
              "      <td>0</td>\n",
              "      <td>0</td>\n",
              "      <td>0</td>\n",
              "      <td>0</td>\n",
              "      <td>0</td>\n",
              "      <td>0</td>\n",
              "      <td>0</td>\n",
              "      <td>0</td>\n",
              "      <td>0</td>\n",
              "      <td>0</td>\n",
              "      <td>0</td>\n",
              "      <td>0</td>\n",
              "      <td>0</td>\n",
              "      <td>0</td>\n",
              "      <td>0</td>\n",
              "      <td>0</td>\n",
              "      <td>0</td>\n",
              "      <td>0</td>\n",
              "      <td>0</td>\n",
              "      <td>...</td>\n",
              "      <td>0</td>\n",
              "      <td>0</td>\n",
              "      <td>0</td>\n",
              "      <td>0</td>\n",
              "      <td>0</td>\n",
              "      <td>0</td>\n",
              "      <td>0</td>\n",
              "      <td>0</td>\n",
              "      <td>0</td>\n",
              "      <td>0</td>\n",
              "      <td>0</td>\n",
              "      <td>0</td>\n",
              "      <td>0</td>\n",
              "      <td>0</td>\n",
              "      <td>0</td>\n",
              "      <td>0</td>\n",
              "      <td>0</td>\n",
              "      <td>0</td>\n",
              "      <td>0</td>\n",
              "      <td>0</td>\n",
              "      <td>0</td>\n",
              "      <td>1</td>\n",
              "      <td>0</td>\n",
              "      <td>0</td>\n",
              "      <td>0</td>\n",
              "      <td>0</td>\n",
              "      <td>0</td>\n",
              "      <td>0</td>\n",
              "      <td>0</td>\n",
              "      <td>0</td>\n",
              "      <td>0</td>\n",
              "      <td>0</td>\n",
              "      <td>0</td>\n",
              "      <td>0</td>\n",
              "      <td>0</td>\n",
              "      <td>0</td>\n",
              "      <td>0</td>\n",
              "      <td>0</td>\n",
              "      <td>0</td>\n",
              "      <td>0</td>\n",
              "    </tr>\n",
              "    <tr>\n",
              "      <th>1882011</th>\n",
              "      <td>7</td>\n",
              "      <td>11</td>\n",
              "      <td>6</td>\n",
              "      <td>12</td>\n",
              "      <td>17</td>\n",
              "      <td>1</td>\n",
              "      <td>6</td>\n",
              "      <td>0</td>\n",
              "      <td>1</td>\n",
              "      <td>0</td>\n",
              "      <td>0</td>\n",
              "      <td>0</td>\n",
              "      <td>0</td>\n",
              "      <td>0</td>\n",
              "      <td>0</td>\n",
              "      <td>0</td>\n",
              "      <td>0</td>\n",
              "      <td>0</td>\n",
              "      <td>0</td>\n",
              "      <td>0</td>\n",
              "      <td>0</td>\n",
              "      <td>0</td>\n",
              "      <td>0</td>\n",
              "      <td>0</td>\n",
              "      <td>0</td>\n",
              "      <td>0</td>\n",
              "      <td>0</td>\n",
              "      <td>0</td>\n",
              "      <td>0</td>\n",
              "      <td>0</td>\n",
              "      <td>0</td>\n",
              "      <td>0</td>\n",
              "      <td>0</td>\n",
              "      <td>0</td>\n",
              "      <td>0</td>\n",
              "      <td>0</td>\n",
              "      <td>0</td>\n",
              "      <td>0</td>\n",
              "      <td>0</td>\n",
              "      <td>0</td>\n",
              "      <td>...</td>\n",
              "      <td>0</td>\n",
              "      <td>0</td>\n",
              "      <td>0</td>\n",
              "      <td>0</td>\n",
              "      <td>0</td>\n",
              "      <td>0</td>\n",
              "      <td>0</td>\n",
              "      <td>0</td>\n",
              "      <td>0</td>\n",
              "      <td>0</td>\n",
              "      <td>0</td>\n",
              "      <td>0</td>\n",
              "      <td>0</td>\n",
              "      <td>0</td>\n",
              "      <td>0</td>\n",
              "      <td>0</td>\n",
              "      <td>0</td>\n",
              "      <td>0</td>\n",
              "      <td>0</td>\n",
              "      <td>0</td>\n",
              "      <td>0</td>\n",
              "      <td>0</td>\n",
              "      <td>0</td>\n",
              "      <td>0</td>\n",
              "      <td>0</td>\n",
              "      <td>0</td>\n",
              "      <td>0</td>\n",
              "      <td>0</td>\n",
              "      <td>0</td>\n",
              "      <td>0</td>\n",
              "      <td>0</td>\n",
              "      <td>0</td>\n",
              "      <td>0</td>\n",
              "      <td>0</td>\n",
              "      <td>0</td>\n",
              "      <td>0</td>\n",
              "      <td>0</td>\n",
              "      <td>0</td>\n",
              "      <td>0</td>\n",
              "      <td>0</td>\n",
              "    </tr>\n",
              "    <tr>\n",
              "      <th>1882012</th>\n",
              "      <td>0</td>\n",
              "      <td>11</td>\n",
              "      <td>6</td>\n",
              "      <td>12</td>\n",
              "      <td>17</td>\n",
              "      <td>1</td>\n",
              "      <td>6</td>\n",
              "      <td>1</td>\n",
              "      <td>0</td>\n",
              "      <td>0</td>\n",
              "      <td>0</td>\n",
              "      <td>0</td>\n",
              "      <td>0</td>\n",
              "      <td>0</td>\n",
              "      <td>0</td>\n",
              "      <td>0</td>\n",
              "      <td>0</td>\n",
              "      <td>0</td>\n",
              "      <td>0</td>\n",
              "      <td>0</td>\n",
              "      <td>0</td>\n",
              "      <td>0</td>\n",
              "      <td>0</td>\n",
              "      <td>0</td>\n",
              "      <td>0</td>\n",
              "      <td>0</td>\n",
              "      <td>0</td>\n",
              "      <td>0</td>\n",
              "      <td>0</td>\n",
              "      <td>0</td>\n",
              "      <td>0</td>\n",
              "      <td>0</td>\n",
              "      <td>0</td>\n",
              "      <td>0</td>\n",
              "      <td>0</td>\n",
              "      <td>0</td>\n",
              "      <td>0</td>\n",
              "      <td>0</td>\n",
              "      <td>0</td>\n",
              "      <td>0</td>\n",
              "      <td>...</td>\n",
              "      <td>0</td>\n",
              "      <td>0</td>\n",
              "      <td>0</td>\n",
              "      <td>0</td>\n",
              "      <td>0</td>\n",
              "      <td>0</td>\n",
              "      <td>0</td>\n",
              "      <td>0</td>\n",
              "      <td>0</td>\n",
              "      <td>0</td>\n",
              "      <td>0</td>\n",
              "      <td>0</td>\n",
              "      <td>0</td>\n",
              "      <td>0</td>\n",
              "      <td>0</td>\n",
              "      <td>0</td>\n",
              "      <td>0</td>\n",
              "      <td>0</td>\n",
              "      <td>0</td>\n",
              "      <td>0</td>\n",
              "      <td>0</td>\n",
              "      <td>0</td>\n",
              "      <td>0</td>\n",
              "      <td>0</td>\n",
              "      <td>0</td>\n",
              "      <td>0</td>\n",
              "      <td>0</td>\n",
              "      <td>0</td>\n",
              "      <td>0</td>\n",
              "      <td>0</td>\n",
              "      <td>0</td>\n",
              "      <td>0</td>\n",
              "      <td>0</td>\n",
              "      <td>0</td>\n",
              "      <td>0</td>\n",
              "      <td>0</td>\n",
              "      <td>0</td>\n",
              "      <td>0</td>\n",
              "      <td>0</td>\n",
              "      <td>0</td>\n",
              "    </tr>\n",
              "    <tr>\n",
              "      <th>1882013</th>\n",
              "      <td>0</td>\n",
              "      <td>11</td>\n",
              "      <td>6</td>\n",
              "      <td>12</td>\n",
              "      <td>17</td>\n",
              "      <td>2</td>\n",
              "      <td>6</td>\n",
              "      <td>1</td>\n",
              "      <td>0</td>\n",
              "      <td>0</td>\n",
              "      <td>0</td>\n",
              "      <td>0</td>\n",
              "      <td>0</td>\n",
              "      <td>0</td>\n",
              "      <td>0</td>\n",
              "      <td>0</td>\n",
              "      <td>0</td>\n",
              "      <td>0</td>\n",
              "      <td>0</td>\n",
              "      <td>0</td>\n",
              "      <td>0</td>\n",
              "      <td>0</td>\n",
              "      <td>0</td>\n",
              "      <td>0</td>\n",
              "      <td>0</td>\n",
              "      <td>0</td>\n",
              "      <td>0</td>\n",
              "      <td>0</td>\n",
              "      <td>0</td>\n",
              "      <td>0</td>\n",
              "      <td>0</td>\n",
              "      <td>0</td>\n",
              "      <td>0</td>\n",
              "      <td>0</td>\n",
              "      <td>0</td>\n",
              "      <td>0</td>\n",
              "      <td>0</td>\n",
              "      <td>0</td>\n",
              "      <td>0</td>\n",
              "      <td>0</td>\n",
              "      <td>...</td>\n",
              "      <td>0</td>\n",
              "      <td>0</td>\n",
              "      <td>0</td>\n",
              "      <td>0</td>\n",
              "      <td>0</td>\n",
              "      <td>0</td>\n",
              "      <td>0</td>\n",
              "      <td>0</td>\n",
              "      <td>0</td>\n",
              "      <td>0</td>\n",
              "      <td>0</td>\n",
              "      <td>0</td>\n",
              "      <td>0</td>\n",
              "      <td>0</td>\n",
              "      <td>0</td>\n",
              "      <td>0</td>\n",
              "      <td>0</td>\n",
              "      <td>0</td>\n",
              "      <td>0</td>\n",
              "      <td>0</td>\n",
              "      <td>0</td>\n",
              "      <td>0</td>\n",
              "      <td>0</td>\n",
              "      <td>0</td>\n",
              "      <td>0</td>\n",
              "      <td>0</td>\n",
              "      <td>0</td>\n",
              "      <td>0</td>\n",
              "      <td>0</td>\n",
              "      <td>0</td>\n",
              "      <td>0</td>\n",
              "      <td>0</td>\n",
              "      <td>0</td>\n",
              "      <td>0</td>\n",
              "      <td>0</td>\n",
              "      <td>0</td>\n",
              "      <td>0</td>\n",
              "      <td>0</td>\n",
              "      <td>0</td>\n",
              "      <td>0</td>\n",
              "    </tr>\n",
              "    <tr>\n",
              "      <th>1882014</th>\n",
              "      <td>17</td>\n",
              "      <td>11</td>\n",
              "      <td>6</td>\n",
              "      <td>12</td>\n",
              "      <td>17</td>\n",
              "      <td>2</td>\n",
              "      <td>6</td>\n",
              "      <td>0</td>\n",
              "      <td>1</td>\n",
              "      <td>0</td>\n",
              "      <td>0</td>\n",
              "      <td>0</td>\n",
              "      <td>0</td>\n",
              "      <td>0</td>\n",
              "      <td>0</td>\n",
              "      <td>0</td>\n",
              "      <td>0</td>\n",
              "      <td>0</td>\n",
              "      <td>0</td>\n",
              "      <td>0</td>\n",
              "      <td>0</td>\n",
              "      <td>0</td>\n",
              "      <td>0</td>\n",
              "      <td>0</td>\n",
              "      <td>0</td>\n",
              "      <td>0</td>\n",
              "      <td>0</td>\n",
              "      <td>0</td>\n",
              "      <td>0</td>\n",
              "      <td>0</td>\n",
              "      <td>0</td>\n",
              "      <td>0</td>\n",
              "      <td>0</td>\n",
              "      <td>0</td>\n",
              "      <td>0</td>\n",
              "      <td>0</td>\n",
              "      <td>0</td>\n",
              "      <td>0</td>\n",
              "      <td>0</td>\n",
              "      <td>0</td>\n",
              "      <td>...</td>\n",
              "      <td>0</td>\n",
              "      <td>0</td>\n",
              "      <td>0</td>\n",
              "      <td>0</td>\n",
              "      <td>0</td>\n",
              "      <td>0</td>\n",
              "      <td>0</td>\n",
              "      <td>0</td>\n",
              "      <td>0</td>\n",
              "      <td>0</td>\n",
              "      <td>0</td>\n",
              "      <td>0</td>\n",
              "      <td>1</td>\n",
              "      <td>0</td>\n",
              "      <td>0</td>\n",
              "      <td>0</td>\n",
              "      <td>0</td>\n",
              "      <td>0</td>\n",
              "      <td>0</td>\n",
              "      <td>0</td>\n",
              "      <td>0</td>\n",
              "      <td>0</td>\n",
              "      <td>0</td>\n",
              "      <td>0</td>\n",
              "      <td>0</td>\n",
              "      <td>0</td>\n",
              "      <td>0</td>\n",
              "      <td>0</td>\n",
              "      <td>0</td>\n",
              "      <td>0</td>\n",
              "      <td>0</td>\n",
              "      <td>0</td>\n",
              "      <td>0</td>\n",
              "      <td>0</td>\n",
              "      <td>0</td>\n",
              "      <td>0</td>\n",
              "      <td>0</td>\n",
              "      <td>0</td>\n",
              "      <td>0</td>\n",
              "      <td>0</td>\n",
              "    </tr>\n",
              "  </tbody>\n",
              "</table>\n",
              "<p>1882015 rows × 352 columns</p>\n",
              "</div>"
            ],
            "text/plain": [
              "         status  month  ...  next_station_Wynnewood  next_station_Yardley\n",
              "0             1      3  ...                       0                     0\n",
              "1             1      3  ...                       0                     0\n",
              "2             2      3  ...                       0                     0\n",
              "3             0      3  ...                       0                     0\n",
              "4             0      3  ...                       0                     0\n",
              "...         ...    ...  ...                     ...                   ...\n",
              "1882010      12     11  ...                       0                     0\n",
              "1882011       7     11  ...                       0                     0\n",
              "1882012       0     11  ...                       0                     0\n",
              "1882013       0     11  ...                       0                     0\n",
              "1882014      17     11  ...                       0                     0\n",
              "\n",
              "[1882015 rows x 352 columns]"
            ]
          },
          "metadata": {
            "tags": []
          },
          "execution_count": 14
        }
      ]
    },
    {
      "cell_type": "markdown",
      "metadata": {
        "id": "4ZrV-lWI3Bj8",
        "colab_type": "text"
      },
      "source": [
        "#### 2.3 Splitting our dataset & PCA\n",
        "\n",
        "Let's split our data into features and labels, as well as create test/train splits. We use a 80:20 split. "
      ]
    },
    {
      "cell_type": "code",
      "metadata": {
        "id": "a2nkpoIi22d0",
        "colab_type": "code",
        "colab": {}
      },
      "source": [
        "from sklearn.model_selection import train_test_split\n",
        "\n",
        "features = train_df_clean.loc[:, train_df_clean.columns != \"status\"]\n",
        "labels = train_df_clean['status']\n",
        "\n",
        "x_train, x_test, y_train, y_test = train_test_split(features, labels, \n",
        "                                                    test_size = 0.2)"
      ],
      "execution_count": 0,
      "outputs": []
    },
    {
      "cell_type": "markdown",
      "metadata": {
        "id": "tnF-qc7h4jlA",
        "colab_type": "text"
      },
      "source": [
        "Let's also run PCA and see if there's anyway we can remove the number of components we keep."
      ]
    },
    {
      "cell_type": "code",
      "metadata": {
        "id": "TpLEK7Hp4rT_",
        "colab_type": "code",
        "outputId": "a03aa286-f8d9-4069-cfa8-da1204943548",
        "colab": {
          "base_uri": "https://localhost:8080/",
          "height": 282
        }
      },
      "source": [
        "from sklearn.decomposition import PCA\n",
        "\n",
        "pca = PCA()\n",
        "pca_features = pca.fit_transform(x_train)\n",
        "pc_vs_variance = np.cumsum(pca.explained_variance_ratio_)\n",
        "plt.xlim(0, 15)\n",
        "plt.plot(pc_vs_variance)"
      ],
      "execution_count": 0,
      "outputs": [
        {
          "output_type": "execute_result",
          "data": {
            "text/plain": [
              "[<matplotlib.lines.Line2D at 0x7f7d28c60f28>]"
            ]
          },
          "metadata": {
            "tags": []
          },
          "execution_count": 45
        },
        {
          "output_type": "display_data",
          "data": {
            "image/png": "[encoded data removed]",
            "text/plain": [
              "<Figure size 432x288 with 1 Axes>"
            ]
          },
          "metadata": {
            "tags": [],
            "needs_background": "light"
          }
        }
      ]
    },
    {
      "cell_type": "markdown",
      "metadata": {
        "id": "Iis5kmuD6YFU",
        "colab_type": "text"
      },
      "source": [
        "This graph is misleading! We forgot to scale our features, so the PCA isn't accurate. Let's re-run the above, but scale our train dataset w/ sklearn's StandardScaler first."
      ]
    },
    {
      "cell_type": "code",
      "metadata": {
        "id": "fb-0aZVd41NW",
        "colab_type": "code",
        "outputId": "6c4350ae-a7d3-48ad-e72a-17c81a824293",
        "colab": {
          "base_uri": "https://localhost:8080/",
          "height": 282
        }
      },
      "source": [
        "from sklearn.preprocessing import StandardScaler\n",
        "X = StandardScaler().fit_transform(x_train)\n",
        "pca = PCA()\n",
        "pca_features = pca.fit_transform(X)\n",
        "pc_vs_variance = np.cumsum(pca.explained_variance_ratio_)\n",
        "plt.plot(pc_vs_variance)"
      ],
      "execution_count": 0,
      "outputs": [
        {
          "output_type": "execute_result",
          "data": {
            "text/plain": [
              "[<matplotlib.lines.Line2D at 0x7fecf8a8cb00>]"
            ]
          },
          "metadata": {
            "tags": []
          },
          "execution_count": 16
        },
        {
          "output_type": "display_data",
          "data": {
            "image/png": "[encoded data removed]",
            "text/plain": [
              "<Figure size 432x288 with 1 Axes>"
            ]
          },
          "metadata": {
            "tags": [],
            "needs_background": "light"
          }
        }
      ]
    },
    {
      "cell_type": "markdown",
      "metadata": {
        "id": "2CEH17Xj1sHh",
        "colab_type": "text"
      },
      "source": [
        "The above graph is pretty much linear, which makes sense, as we didn't expect there to be too much correlation between our columns; so, we won't be using PCA to train our random forest. \n",
        "\n",
        "In the below section, we will find optimal parameters for our RandomForestRegressor by running a grid search. We will be tuning the n_estimators, max_features"
      ]
    },
    {
      "cell_type": "code",
      "metadata": {
        "id": "2p_w4Tbn7AEC",
        "colab_type": "code",
        "colab": {}
      },
      "source": [
        "from sklearn.ensemble import RandomForestRegressor\n",
        "from sklearn.model_selection import GridSearchCV\n",
        "\n",
        "rf = RandomForestRegressor()\n",
        "\n",
        "param_grid = {\n",
        "    'n_estimators' : [5, 10, 25],\n",
        "    'max_depth' : [5, 10, 20],\n",
        "    'min_samples_split' : [2, 5, 10]\n",
        "}\n",
        "\n",
        "grid_search = GridSearchCV(estimator = rf, param_grid = param_grid, cv = 3)\n",
        "grid_search.fit(x_train, y_train)\n",
        "print(grid_search.best_params_)"
      ],
      "execution_count": 0,
      "outputs": []
    },
    {
      "cell_type": "markdown",
      "metadata": {
        "id": "nuzDMBwf4W_T",
        "colab_type": "text"
      },
      "source": [
        "The grid search (output no longer shown, but too long to rerun) tells us that the best parameters are 25 estimators, a high maximum depth, and a low min samples split. \n",
        "\n",
        "It's worth noting that we limit the number of estimators we have to be upper-bounded by 25, as going any higher increases training time to impractical levels (training a RandomForestRegressor w/ 200 estimators didn't terminate after 18 hours). "
      ]
    },
    {
      "cell_type": "markdown",
      "metadata": {
        "id": "bGL9jF_Tnkox",
        "colab_type": "text"
      },
      "source": [
        "#### 2.4 Training + Results \n",
        "\n",
        "First, we train a Random Forest Regressor w/ max_depth 5 and see if this will suffice."
      ]
    },
    {
      "cell_type": "code",
      "metadata": {
        "id": "SBrqISIQ4Ywi",
        "colab_type": "code",
        "outputId": "8a1a72d4-79e8-441f-8f4a-952e803c070a",
        "colab": {
          "base_uri": "https://localhost:8080/",
          "height": 136
        }
      },
      "source": [
        "rf = RandomForestRegressor(n_estimators = 100, max_depth = 5, \n",
        "                           min_samples_split = 2)\n",
        "rf.fit(x_train, y_train)"
      ],
      "execution_count": 0,
      "outputs": [
        {
          "output_type": "execute_result",
          "data": {
            "text/plain": [
              "RandomForestRegressor(bootstrap=True, ccp_alpha=0.0, criterion='mse',\n",
              "                      max_depth=5, max_features='auto', max_leaf_nodes=None,\n",
              "                      max_samples=None, min_impurity_decrease=0.0,\n",
              "                      min_impurity_split=None, min_samples_leaf=1,\n",
              "                      min_samples_split=2, min_weight_fraction_leaf=0.0,\n",
              "                      n_estimators=100, n_jobs=None, oob_score=False,\n",
              "                      random_state=None, verbose=0, warm_start=False)"
            ]
          },
          "metadata": {
            "tags": []
          },
          "execution_count": 20
        }
      ]
    },
    {
      "cell_type": "code",
      "metadata": {
        "id": "Mna5lORk4glC",
        "colab_type": "code",
        "outputId": "62752f9d-23db-41d1-cd57-ae1e45a522df",
        "colab": {
          "base_uri": "https://localhost:8080/",
          "height": 51
        }
      },
      "source": [
        "from sklearn.metrics import mean_squared_error\n",
        "\n",
        "prediction = rf.predict(x_test)\n",
        "prediction_score = rf.score(x_test, y_test)\n",
        "prediction_train = rf.predict(x_train)\n",
        "prediction_train_score = rf.score(x_train, y_train)\n",
        "print(\"Test prediction accuracy:\", prediction_score)\n",
        "print(\"Train prediction accuracy:\", prediction_train_score)\n"
      ],
      "execution_count": 0,
      "outputs": [
        {
          "output_type": "stream",
          "text": [
            "Test prediction accuracy: 0.1414871516692625\n",
            "Train prediction accuracy: 0.14797494960125657\n"
          ],
          "name": "stdout"
        }
      ]
    },
    {
      "cell_type": "markdown",
      "metadata": {
        "id": "mPSA9buRnruV",
        "colab_type": "text"
      },
      "source": [
        "These results are extremely lackluster -- and for good reason. Limiting our depth to 5 likely means that the model can't capture a good amount of granularity coming from the train's origin/destination stations.\n",
        "\n",
        "We re-train a new model with no maximum depth but limit the number of estimators (as training with anything over 25 takes too long). "
      ]
    },
    {
      "cell_type": "code",
      "metadata": {
        "id": "ChtgheyaljjZ",
        "colab_type": "code",
        "outputId": "07ec39ff-c23b-4402-ff6e-d02de0174695",
        "colab": {
          "base_uri": "https://localhost:8080/",
          "height": 136
        }
      },
      "source": [
        "rf2 = RandomForestRegressor(n_estimators = 25)\n",
        "rf2.fit(x_train, y_train)"
      ],
      "execution_count": 0,
      "outputs": [
        {
          "output_type": "execute_result",
          "data": {
            "text/plain": [
              "RandomForestRegressor(bootstrap=True, ccp_alpha=0.0, criterion='mse',\n",
              "                      max_depth=None, max_features='auto', max_leaf_nodes=None,\n",
              "                      max_samples=None, min_impurity_decrease=0.0,\n",
              "                      min_impurity_split=None, min_samples_leaf=1,\n",
              "                      min_samples_split=2, min_weight_fraction_leaf=0.0,\n",
              "                      n_estimators=25, n_jobs=None, oob_score=False,\n",
              "                      random_state=None, verbose=0, warm_start=False)"
            ]
          },
          "metadata": {
            "tags": []
          },
          "execution_count": 13
        }
      ]
    },
    {
      "cell_type": "code",
      "metadata": {
        "id": "iDA9mqLVRt3X",
        "colab_type": "code",
        "outputId": "346fe76d-de18-4388-98d6-fd27785dea5a",
        "colab": {
          "base_uri": "https://localhost:8080/",
          "height": 51
        }
      },
      "source": [
        "prediction_score = rf2.score(x_test, y_test)\n",
        "prediction_train_score = rf2.score(x_train, y_train)\n",
        "print(\"Test prediction accuracy:\", prediction_score)\n",
        "print(\"Train prediction accuracy:\", prediction_train_score)"
      ],
      "execution_count": 0,
      "outputs": [
        {
          "output_type": "stream",
          "text": [
            "Test prediction accuracy: 0.687836846440559\n",
            "Train prediction accuracy: 0.9505761681152539\n"
          ],
          "name": "stdout"
        }
      ]
    },
    {
      "cell_type": "markdown",
      "metadata": {
        "id": "10FZfQKRn-AZ",
        "colab_type": "text"
      },
      "source": [
        "Even though the # of estimators goes down to 25, we still achieve much better accuracy -- nearly 70% -- on our test set. It isn't hard to imagine that, with more powerful hardware and more time, we could achieve much higher accuracy with a higher number of estimators.\n",
        "\n",
        "Since we are using a Random Forest and not a neural network, lets also take advantage of the fact that we can see the relative importance of features in the Random Forest. "
      ]
    },
    {
      "cell_type": "code",
      "metadata": {
        "id": "h6rpj1cEOJzy",
        "colab_type": "code",
        "outputId": "a60dcd95-b1a5-421b-a1ce-fa98c1685422",
        "colab": {
          "base_uri": "https://localhost:8080/",
          "height": 433
        }
      },
      "source": [
        "importances = rf2.feature_importances_\n",
        "importance_df = pd.DataFrame(importances, index=x_test.columns, columns=['importance']).sort_values('importance', ascending=False)\n",
        "importance_df[0:10].plot.bar()"
      ],
      "execution_count": 0,
      "outputs": [
        {
          "output_type": "execute_result",
          "data": {
            "text/plain": [
              "<matplotlib.axes._subplots.AxesSubplot at 0x7f1b0616b6d8>"
            ]
          },
          "metadata": {
            "tags": []
          },
          "execution_count": 56
        },
        {
          "output_type": "display_data",
          "data": {
            "image/png": "[encoded data removed]",
            "text/plain": [
              "<Figure size 432x288 with 1 Axes>"
            ]
          },
          "metadata": {
            "tags": [],
            "needs_background": "light"
          }
        }
      ]
    },
    {
      "cell_type": "markdown",
      "metadata": {
        "id": "1VE0Ks8noaK-",
        "colab_type": "text"
      },
      "source": [
        "The above histogram reveals a really interesting point -- roughly half of the importance is attributed to nothing but a train's timestamp! This makes sense, as delays are likely triggered by an event (crash, stoppage, etc) that then affects other trains operating on the same line/within a similar time period; knowing when a train is leaving is actually really powerful!\n",
        "\n",
        "After weekday_num, we see that the RF then starts evaluating various origins/next destinations, which is also to be expected (as some particular origins or destinations may be closely correlated with no delays or high delays). "
      ]
    },
    {
      "cell_type": "markdown",
      "metadata": {
        "id": "gdYi2ssUhBuG",
        "colab_type": "text"
      },
      "source": [
        "## Part 3: Sentiment Analysis\n",
        "\n",
        "In this section, we train a sentiment analyzer on a large Twitter dataset, and then apply it to a dataset of SEPTA tweets to see if we can extrapolate any kind of interesting information/insights. \n",
        "\n",
        "This analysis is motivated by the hypothesis that -- if we take a look at tweets directed at SEPTA -- we will see an overwhelmingly negative majority. Furthermore, we might find that, in the past 2 months (as COVID-19 has sparked)-- negative sentiment has increased even further (a result of people seeing SEPTA not taking action against COVID, being dissapointed about lack of sanitation, etc).\n",
        "\n",
        "We will be using an LSTM and transfer-learning on a Twitter sentiment dataset, which is linked in section 3.4."
      ]
    },
    {
      "cell_type": "markdown",
      "metadata": {
        "id": "7Ao33VGzqW0_",
        "colab_type": "text"
      },
      "source": [
        "#### 3.1 Acquiring the data and cleaning\n",
        "\n",
        "We use a pypi library called twitter-scraper to scrape all tweets directed at the twitter account, @SEPTA. This was done locally and exported to a json file, that is imported into a pandas dataframe below. "
      ]
    },
    {
      "cell_type": "code",
      "metadata": {
        "id": "LFBtFC_0hF3x",
        "colab_type": "code",
        "colab": {}
      },
      "source": [
        "septa_tweets = pd.read_json('/content/gdrive/My Drive/CIS545_2020/tweets_real_2.json')"
      ],
      "execution_count": 0,
      "outputs": []
    },
    {
      "cell_type": "code",
      "metadata": {
        "id": "CO0MmlbdiKzl",
        "colab_type": "code",
        "colab": {}
      },
      "source": [
        "septa_tweets['timestamp'] = pd.to_datetime(septa_tweets['timestamp'])\n",
        "septa_tweets = septa_tweets.sort_values(by='timestamp', ascending=False)"
      ],
      "execution_count": 0,
      "outputs": []
    },
    {
      "cell_type": "code",
      "metadata": {
        "id": "PerQBUQMH8Li",
        "colab_type": "code",
        "outputId": "9819eaed-7fda-419f-eae3-8a412feb4faf",
        "colab": {
          "base_uri": "https://localhost:8080/",
          "height": 949
        }
      },
      "source": [
        "septa_tweets"
      ],
      "execution_count": 5,
      "outputs": [
        {
          "output_type": "execute_result",
          "data": {
            "text/html": [
              "<div>\n",
              "<style scoped>\n",
              "    .dataframe tbody tr th:only-of-type {\n",
              "        vertical-align: middle;\n",
              "    }\n",
              "\n",
              "    .dataframe tbody tr th {\n",
              "        vertical-align: top;\n",
              "    }\n",
              "\n",
              "    .dataframe thead th {\n",
              "        text-align: right;\n",
              "    }\n",
              "</style>\n",
              "<table border=\"1\" class=\"dataframe\">\n",
              "  <thead>\n",
              "    <tr style=\"text-align: right;\">\n",
              "      <th></th>\n",
              "      <th>has_media</th>\n",
              "      <th>hashtags</th>\n",
              "      <th>img_urls</th>\n",
              "      <th>is_replied</th>\n",
              "      <th>is_reply_to</th>\n",
              "      <th>likes</th>\n",
              "      <th>links</th>\n",
              "      <th>parent_tweet_id</th>\n",
              "      <th>replies</th>\n",
              "      <th>reply_to_users</th>\n",
              "      <th>retweets</th>\n",
              "      <th>screen_name</th>\n",
              "      <th>text</th>\n",
              "      <th>text_html</th>\n",
              "      <th>timestamp</th>\n",
              "      <th>timestamp_epochs</th>\n",
              "      <th>tweet_id</th>\n",
              "      <th>tweet_url</th>\n",
              "      <th>user_id</th>\n",
              "      <th>username</th>\n",
              "      <th>video_url</th>\n",
              "    </tr>\n",
              "  </thead>\n",
              "  <tbody>\n",
              "    <tr>\n",
              "      <th>4766</th>\n",
              "      <td>True</td>\n",
              "      <td>[]</td>\n",
              "      <td>[https://pbs.twimg.com/media/EWpaJIYWkAMGh04.j...</td>\n",
              "      <td>False</td>\n",
              "      <td>False</td>\n",
              "      <td>0</td>\n",
              "      <td>[]</td>\n",
              "      <td></td>\n",
              "      <td>0</td>\n",
              "      <td>[]</td>\n",
              "      <td>1</td>\n",
              "      <td>BuckleGarage</td>\n",
              "      <td>@SEPTA @SEPTA_SOCIAL @SEPTAPHILLY @NBCPhiladel...</td>\n",
              "      <td>&lt;p class=\"TweetTextSize js-tweet-text tweet-te...</td>\n",
              "      <td>2020-04-27 23:25:21</td>\n",
              "      <td>2020-04-27 23:25:21</td>\n",
              "      <td>1254914563050438656</td>\n",
              "      <td>/BuckleGarage/status/1254914563050438658</td>\n",
              "      <td>532634473</td>\n",
              "      <td>lex</td>\n",
              "      <td></td>\n",
              "    </tr>\n",
              "    <tr>\n",
              "      <th>4786</th>\n",
              "      <td>True</td>\n",
              "      <td>[]</td>\n",
              "      <td>[https://pbs.twimg.com/media/EWpaJIYWkAMGh04.j...</td>\n",
              "      <td>False</td>\n",
              "      <td>False</td>\n",
              "      <td>0</td>\n",
              "      <td>[]</td>\n",
              "      <td></td>\n",
              "      <td>0</td>\n",
              "      <td>[]</td>\n",
              "      <td>1</td>\n",
              "      <td>BuckleGarage</td>\n",
              "      <td>@SEPTA @SEPTA_SOCIAL @SEPTAPHILLY @NBCPhiladel...</td>\n",
              "      <td>&lt;p class=\"TweetTextSize js-tweet-text tweet-te...</td>\n",
              "      <td>2020-04-27 23:25:21</td>\n",
              "      <td>2020-04-27 23:25:21</td>\n",
              "      <td>1254914563050438656</td>\n",
              "      <td>/BuckleGarage/status/1254914563050438658</td>\n",
              "      <td>532634473</td>\n",
              "      <td>lex</td>\n",
              "      <td></td>\n",
              "    </tr>\n",
              "    <tr>\n",
              "      <th>4767</th>\n",
              "      <td>False</td>\n",
              "      <td>[]</td>\n",
              "      <td>[]</td>\n",
              "      <td>True</td>\n",
              "      <td>False</td>\n",
              "      <td>2</td>\n",
              "      <td>[]</td>\n",
              "      <td></td>\n",
              "      <td>3</td>\n",
              "      <td>[]</td>\n",
              "      <td>0</td>\n",
              "      <td>violentrenegade</td>\n",
              "      <td>@SEPTA why do you insist that everyone has to ...</td>\n",
              "      <td>&lt;p class=\"TweetTextSize js-tweet-text tweet-te...</td>\n",
              "      <td>2020-04-27 23:12:19</td>\n",
              "      <td>2020-04-27 23:12:19</td>\n",
              "      <td>1254911281301159936</td>\n",
              "      <td>/violentrenegade/status/1254911281301159939</td>\n",
              "      <td>876201176966025216</td>\n",
              "      <td>dEEbz</td>\n",
              "      <td></td>\n",
              "    </tr>\n",
              "    <tr>\n",
              "      <th>4787</th>\n",
              "      <td>False</td>\n",
              "      <td>[]</td>\n",
              "      <td>[]</td>\n",
              "      <td>True</td>\n",
              "      <td>False</td>\n",
              "      <td>2</td>\n",
              "      <td>[]</td>\n",
              "      <td></td>\n",
              "      <td>3</td>\n",
              "      <td>[]</td>\n",
              "      <td>0</td>\n",
              "      <td>violentrenegade</td>\n",
              "      <td>@SEPTA why do you insist that everyone has to ...</td>\n",
              "      <td>&lt;p class=\"TweetTextSize js-tweet-text tweet-te...</td>\n",
              "      <td>2020-04-27 23:12:19</td>\n",
              "      <td>2020-04-27 23:12:19</td>\n",
              "      <td>1254911281301159936</td>\n",
              "      <td>/violentrenegade/status/1254911281301159939</td>\n",
              "      <td>876201176966025216</td>\n",
              "      <td>dEEbz</td>\n",
              "      <td></td>\n",
              "    </tr>\n",
              "    <tr>\n",
              "      <th>4788</th>\n",
              "      <td>False</td>\n",
              "      <td>[]</td>\n",
              "      <td>[]</td>\n",
              "      <td>True</td>\n",
              "      <td>False</td>\n",
              "      <td>1</td>\n",
              "      <td>[]</td>\n",
              "      <td></td>\n",
              "      <td>1</td>\n",
              "      <td>[]</td>\n",
              "      <td>0</td>\n",
              "      <td>fuckallyall215</td>\n",
              "      <td>@septa this new schedule shit is bs more waiti...</td>\n",
              "      <td>&lt;p class=\"TweetTextSize js-tweet-text tweet-te...</td>\n",
              "      <td>2020-04-27 19:35:25</td>\n",
              "      <td>2020-04-27 19:35:25</td>\n",
              "      <td>1254856696851165184</td>\n",
              "      <td>/fuckallyall215/status/1254856696851165185</td>\n",
              "      <td>28396717</td>\n",
              "      <td>Meh Reg</td>\n",
              "      <td></td>\n",
              "    </tr>\n",
              "    <tr>\n",
              "      <th>...</th>\n",
              "      <td>...</td>\n",
              "      <td>...</td>\n",
              "      <td>...</td>\n",
              "      <td>...</td>\n",
              "      <td>...</td>\n",
              "      <td>...</td>\n",
              "      <td>...</td>\n",
              "      <td>...</td>\n",
              "      <td>...</td>\n",
              "      <td>...</td>\n",
              "      <td>...</td>\n",
              "      <td>...</td>\n",
              "      <td>...</td>\n",
              "      <td>...</td>\n",
              "      <td>...</td>\n",
              "      <td>...</td>\n",
              "      <td>...</td>\n",
              "      <td>...</td>\n",
              "      <td>...</td>\n",
              "      <td>...</td>\n",
              "      <td>...</td>\n",
              "    </tr>\n",
              "    <tr>\n",
              "      <th>37</th>\n",
              "      <td>False</td>\n",
              "      <td>[]</td>\n",
              "      <td>[]</td>\n",
              "      <td>False</td>\n",
              "      <td>True</td>\n",
              "      <td>0</td>\n",
              "      <td>[]</td>\n",
              "      <td>983621535</td>\n",
              "      <td>0</td>\n",
              "      <td>[{'screen_name': 'SEPTA', 'user_id': '16358930'}]</td>\n",
              "      <td>0</td>\n",
              "      <td>merecat</td>\n",
              "      <td>@SEPTA reports trains running on or close to s...</td>\n",
              "      <td>&lt;p class=\"TweetTextSize js-tweet-text tweet-te...</td>\n",
              "      <td>2008-10-31 12:03:26</td>\n",
              "      <td>2008-10-31 12:03:26</td>\n",
              "      <td>983627792</td>\n",
              "      <td>/merecat/status/983627792</td>\n",
              "      <td>6347762</td>\n",
              "      <td>Tony Green</td>\n",
              "      <td></td>\n",
              "    </tr>\n",
              "    <tr>\n",
              "      <th>38</th>\n",
              "      <td>False</td>\n",
              "      <td>[]</td>\n",
              "      <td>[]</td>\n",
              "      <td>False</td>\n",
              "      <td>True</td>\n",
              "      <td>0</td>\n",
              "      <td>[]</td>\n",
              "      <td>960971839</td>\n",
              "      <td>0</td>\n",
              "      <td>[{'screen_name': 'SEPTA', 'user_id': '16358930'}]</td>\n",
              "      <td>0</td>\n",
              "      <td>radiocolin</td>\n",
              "      <td>@septa and @njtwatch are insanely annoying in ...</td>\n",
              "      <td>&lt;p class=\"TweetTextSize js-tweet-text tweet-te...</td>\n",
              "      <td>2008-10-15 20:49:16</td>\n",
              "      <td>2008-10-15 20:49:16</td>\n",
              "      <td>961192521</td>\n",
              "      <td>/radiocolin/status/961192521</td>\n",
              "      <td>14165162</td>\n",
              "      <td>Colin</td>\n",
              "      <td></td>\n",
              "    </tr>\n",
              "    <tr>\n",
              "      <th>18</th>\n",
              "      <td>False</td>\n",
              "      <td>[]</td>\n",
              "      <td>[]</td>\n",
              "      <td>False</td>\n",
              "      <td>True</td>\n",
              "      <td>0</td>\n",
              "      <td>[]</td>\n",
              "      <td>960971839</td>\n",
              "      <td>0</td>\n",
              "      <td>[{'screen_name': 'SEPTA', 'user_id': '16358930'}]</td>\n",
              "      <td>0</td>\n",
              "      <td>radiocolin</td>\n",
              "      <td>@septa and @njtwatch are insanely annoying in ...</td>\n",
              "      <td>&lt;p class=\"TweetTextSize js-tweet-text tweet-te...</td>\n",
              "      <td>2008-10-15 20:49:16</td>\n",
              "      <td>2008-10-15 20:49:16</td>\n",
              "      <td>961192521</td>\n",
              "      <td>/radiocolin/status/961192521</td>\n",
              "      <td>14165162</td>\n",
              "      <td>Colin</td>\n",
              "      <td></td>\n",
              "    </tr>\n",
              "    <tr>\n",
              "      <th>39</th>\n",
              "      <td>False</td>\n",
              "      <td>[]</td>\n",
              "      <td>[]</td>\n",
              "      <td>False</td>\n",
              "      <td>True</td>\n",
              "      <td>0</td>\n",
              "      <td>[]</td>\n",
              "      <td>932976871</td>\n",
              "      <td>0</td>\n",
              "      <td>[{'screen_name': 'SEPTA', 'user_id': '16358930'}]</td>\n",
              "      <td>0</td>\n",
              "      <td>haveboard</td>\n",
              "      <td>@septa driver can kiss my ass for looking at m...</td>\n",
              "      <td>&lt;p class=\"TweetTextSize js-tweet-text tweet-te...</td>\n",
              "      <td>2008-09-25 22:19:43</td>\n",
              "      <td>2008-09-25 22:19:43</td>\n",
              "      <td>934957737</td>\n",
              "      <td>/haveboard/status/934957737</td>\n",
              "      <td>9000272</td>\n",
              "      <td>haveboard</td>\n",
              "      <td></td>\n",
              "    </tr>\n",
              "    <tr>\n",
              "      <th>19</th>\n",
              "      <td>False</td>\n",
              "      <td>[]</td>\n",
              "      <td>[]</td>\n",
              "      <td>False</td>\n",
              "      <td>True</td>\n",
              "      <td>0</td>\n",
              "      <td>[]</td>\n",
              "      <td>932976871</td>\n",
              "      <td>0</td>\n",
              "      <td>[{'screen_name': 'SEPTA', 'user_id': '16358930'}]</td>\n",
              "      <td>0</td>\n",
              "      <td>haveboard</td>\n",
              "      <td>@septa driver can kiss my ass for looking at m...</td>\n",
              "      <td>&lt;p class=\"TweetTextSize js-tweet-text tweet-te...</td>\n",
              "      <td>2008-09-25 22:19:43</td>\n",
              "      <td>2008-09-25 22:19:43</td>\n",
              "      <td>934957737</td>\n",
              "      <td>/haveboard/status/934957737</td>\n",
              "      <td>9000272</td>\n",
              "      <td>haveboard</td>\n",
              "      <td></td>\n",
              "    </tr>\n",
              "  </tbody>\n",
              "</table>\n",
              "<p>14550 rows × 21 columns</p>\n",
              "</div>"
            ],
            "text/plain": [
              "      has_media hashtags  ...    username  video_url\n",
              "4766       True       []  ...         lex           \n",
              "4786       True       []  ...         lex           \n",
              "4767      False       []  ...       dEEbz           \n",
              "4787      False       []  ...       dEEbz           \n",
              "4788      False       []  ...     Meh Reg           \n",
              "...         ...      ...  ...         ...        ...\n",
              "37        False       []  ...  Tony Green           \n",
              "38        False       []  ...       Colin           \n",
              "18        False       []  ...       Colin           \n",
              "39        False       []  ...   haveboard           \n",
              "19        False       []  ...   haveboard           \n",
              "\n",
              "[14550 rows x 21 columns]"
            ]
          },
          "metadata": {
            "tags": []
          },
          "execution_count": 5
        }
      ]
    },
    {
      "cell_type": "markdown",
      "metadata": {
        "id": "ymC1P3taqqot",
        "colab_type": "text"
      },
      "source": [
        "#### 3.2 Installing dependencies\n",
        "\n",
        "Great! Now that we've imported our SEPTA tweets -- we now need to figure out how to classify their sentiment. We will do this by creating an LSTM, a type of RNN (recurrent neural network) that is particulary good at capturing context in long sentences. \n",
        "\n",
        "We will be utilizing mxnet along with gluonnlp, a library that comes with pre-trained word embeddings (i.e. low-level representations of words)."
      ]
    },
    {
      "cell_type": "code",
      "metadata": {
        "id": "jYk0L1FgidoD",
        "colab_type": "code",
        "outputId": "53264104-6082-4ee8-dfc3-bc7f84ca5715",
        "colab": {
          "base_uri": "https://localhost:8080/",
          "height": 272
        }
      },
      "source": [
        "!pip3 install gluonnlp"
      ],
      "execution_count": 6,
      "outputs": [
        {
          "output_type": "stream",
          "text": [
            "Collecting gluonnlp\n",
            "\u001b[?25l  Downloading https://files.pythonhosted.org/packages/c6/27/07b57d22496ed6c98b247e578712122402487f5c265ec70a747900f97060/gluonnlp-0.9.1.tar.gz (252kB)\n",
            "\r\u001b[K     |█▎                              | 10kB 22.3MB/s eta 0:00:01\r\u001b[K     |██▋                             | 20kB 2.0MB/s eta 0:00:01\r\u001b[K     |███▉                            | 30kB 2.7MB/s eta 0:00:01\r\u001b[K     |█████▏                          | 40kB 3.0MB/s eta 0:00:01\r\u001b[K     |██████▌                         | 51kB 2.4MB/s eta 0:00:01\r\u001b[K     |███████▊                        | 61kB 2.7MB/s eta 0:00:01\r\u001b[K     |█████████                       | 71kB 3.0MB/s eta 0:00:01\r\u001b[K     |██████████▍                     | 81kB 3.2MB/s eta 0:00:01\r\u001b[K     |███████████▋                    | 92kB 3.5MB/s eta 0:00:01\r\u001b[K     |█████████████                   | 102kB 3.4MB/s eta 0:00:01\r\u001b[K     |██████████████▎                 | 112kB 3.4MB/s eta 0:00:01\r\u001b[K     |███████████████▌                | 122kB 3.4MB/s eta 0:00:01\r\u001b[K     |████████████████▉               | 133kB 3.4MB/s eta 0:00:01\r\u001b[K     |██████████████████▏             | 143kB 3.4MB/s eta 0:00:01\r\u001b[K     |███████████████████▍            | 153kB 3.4MB/s eta 0:00:01\r\u001b[K     |████████████████████▊           | 163kB 3.4MB/s eta 0:00:01\r\u001b[K     |██████████████████████          | 174kB 3.4MB/s eta 0:00:01\r\u001b[K     |███████████████████████▎        | 184kB 3.4MB/s eta 0:00:01\r\u001b[K     |████████████████████████▋       | 194kB 3.4MB/s eta 0:00:01\r\u001b[K     |██████████████████████████      | 204kB 3.4MB/s eta 0:00:01\r\u001b[K     |███████████████████████████▏    | 215kB 3.4MB/s eta 0:00:01\r\u001b[K     |████████████████████████████▌   | 225kB 3.4MB/s eta 0:00:01\r\u001b[K     |█████████████████████████████▉  | 235kB 3.4MB/s eta 0:00:01\r\u001b[K     |███████████████████████████████ | 245kB 3.4MB/s eta 0:00:01\r\u001b[K     |████████████████████████████████| 256kB 3.4MB/s \n",
            "\u001b[?25hRequirement already satisfied: numpy>=1.16.0 in /usr/local/lib/python3.6/dist-packages (from gluonnlp) (1.18.3)\n",
            "Requirement already satisfied: cython in /usr/local/lib/python3.6/dist-packages (from gluonnlp) (0.29.17)\n",
            "Requirement already satisfied: packaging in /usr/local/lib/python3.6/dist-packages (from gluonnlp) (20.3)\n",
            "Requirement already satisfied: pyparsing>=2.0.2 in /usr/local/lib/python3.6/dist-packages (from packaging->gluonnlp) (2.4.7)\n",
            "Requirement already satisfied: six in /usr/local/lib/python3.6/dist-packages (from packaging->gluonnlp) (1.12.0)\n",
            "Building wheels for collected packages: gluonnlp\n",
            "  Building wheel for gluonnlp (setup.py) ... \u001b[?25l\u001b[?25hdone\n",
            "  Created wheel for gluonnlp: filename=gluonnlp-0.9.1-cp36-cp36m-linux_x86_64.whl size=471067 sha256=e2d040eab3f6370b0e6d41de7a3b11c1e5af5624e64376528ade6daf42ad9713\n",
            "  Stored in directory: /root/.cache/pip/wheels/af/60/16/1f8a40e68b85bd9bd7960e91830bca5e40cd113f3220b7e231\n",
            "Successfully built gluonnlp\n",
            "Installing collected packages: gluonnlp\n",
            "Successfully installed gluonnlp-0.9.1\n"
          ],
          "name": "stdout"
        }
      ]
    },
    {
      "cell_type": "code",
      "metadata": {
        "id": "wKSF7yc6i-jB",
        "colab_type": "code",
        "outputId": "37bd454c-7b7e-4082-e8aa-f8b4cf31659f",
        "colab": {
          "base_uri": "https://localhost:8080/",
          "height": 309
        }
      },
      "source": [
        "!pip3 install mxnet-cu101"
      ],
      "execution_count": 7,
      "outputs": [
        {
          "output_type": "stream",
          "text": [
            "Collecting mxnet-cu101\n",
            "\u001b[?25l  Downloading https://files.pythonhosted.org/packages/54/b1/7d01abca10eef104296d2b3f0c59a7dda7573126d079c9e2609e6c17993b/mxnet_cu101-1.6.0-py2.py3-none-manylinux1_x86_64.whl (710.5MB)\n",
            "\u001b[K     |████████████████████████████████| 710.5MB 25kB/s \n",
            "\u001b[?25hCollecting graphviz<0.9.0,>=0.8.1\n",
            "  Downloading https://files.pythonhosted.org/packages/53/39/4ab213673844e0c004bed8a0781a0721a3f6bb23eb8854ee75c236428892/graphviz-0.8.4-py2.py3-none-any.whl\n",
            "Requirement already satisfied: requests<3,>=2.20.0 in /usr/local/lib/python3.6/dist-packages (from mxnet-cu101) (2.23.0)\n",
            "Requirement already satisfied: numpy<2.0.0,>1.16.0 in /usr/local/lib/python3.6/dist-packages (from mxnet-cu101) (1.18.3)\n",
            "Requirement already satisfied: chardet<4,>=3.0.2 in /usr/local/lib/python3.6/dist-packages (from requests<3,>=2.20.0->mxnet-cu101) (3.0.4)\n",
            "Requirement already satisfied: idna<3,>=2.5 in /usr/local/lib/python3.6/dist-packages (from requests<3,>=2.20.0->mxnet-cu101) (2.9)\n",
            "Requirement already satisfied: certifi>=2017.4.17 in /usr/local/lib/python3.6/dist-packages (from requests<3,>=2.20.0->mxnet-cu101) (2020.4.5.1)\n",
            "Requirement already satisfied: urllib3!=1.25.0,!=1.25.1,<1.26,>=1.21.1 in /usr/local/lib/python3.6/dist-packages (from requests<3,>=2.20.0->mxnet-cu101) (1.24.3)\n",
            "Installing collected packages: graphviz, mxnet-cu101\n",
            "  Found existing installation: graphviz 0.10.1\n",
            "    Uninstalling graphviz-0.10.1:\n",
            "      Successfully uninstalled graphviz-0.10.1\n",
            "Successfully installed graphviz-0.8.4 mxnet-cu101-1.6.0\n"
          ],
          "name": "stdout"
        }
      ]
    },
    {
      "cell_type": "code",
      "metadata": {
        "id": "UUChmt1kkUoy",
        "colab_type": "code",
        "outputId": "20e3c96d-2f40-475a-fb0c-726ac3a4651f",
        "colab": {
          "base_uri": "https://localhost:8080/",
          "height": 445
        }
      },
      "source": [
        "!pip3 install --upgrade mxnet-cu101 gluoncv"
      ],
      "execution_count": 8,
      "outputs": [
        {
          "output_type": "stream",
          "text": [
            "Requirement already up-to-date: mxnet-cu101 in /usr/local/lib/python3.6/dist-packages (1.6.0)\n",
            "Collecting gluoncv\n",
            "\u001b[?25l  Downloading https://files.pythonhosted.org/packages/fa/81/37a00609cb53da3671adb106b9bc03fb1c029ad5a8db4bc668283e65703d/gluoncv-0.7.0-py2.py3-none-any.whl (752kB)\n",
            "\u001b[K     |████████████████████████████████| 757kB 3.5MB/s \n",
            "\u001b[?25hRequirement already satisfied, skipping upgrade: numpy<2.0.0,>1.16.0 in /usr/local/lib/python3.6/dist-packages (from mxnet-cu101) (1.18.3)\n",
            "Requirement already satisfied, skipping upgrade: requests<3,>=2.20.0 in /usr/local/lib/python3.6/dist-packages (from mxnet-cu101) (2.23.0)\n",
            "Requirement already satisfied, skipping upgrade: graphviz<0.9.0,>=0.8.1 in /usr/local/lib/python3.6/dist-packages (from mxnet-cu101) (0.8.4)\n",
            "Collecting portalocker\n",
            "  Downloading https://files.pythonhosted.org/packages/53/84/7b3146ec6378d28abc73ab484f09f47dfa008ad6f03f33d90a369f880e25/portalocker-1.7.0-py2.py3-none-any.whl\n",
            "Requirement already satisfied, skipping upgrade: matplotlib in /usr/local/lib/python3.6/dist-packages (from gluoncv) (3.2.1)\n",
            "Requirement already satisfied, skipping upgrade: tqdm in /usr/local/lib/python3.6/dist-packages (from gluoncv) (4.38.0)\n",
            "Requirement already satisfied, skipping upgrade: Pillow in /usr/local/lib/python3.6/dist-packages (from gluoncv) (7.0.0)\n",
            "Requirement already satisfied, skipping upgrade: scipy in /usr/local/lib/python3.6/dist-packages (from gluoncv) (1.4.1)\n",
            "Requirement already satisfied, skipping upgrade: certifi>=2017.4.17 in /usr/local/lib/python3.6/dist-packages (from requests<3,>=2.20.0->mxnet-cu101) (2020.4.5.1)\n",
            "Requirement already satisfied, skipping upgrade: urllib3!=1.25.0,!=1.25.1,<1.26,>=1.21.1 in /usr/local/lib/python3.6/dist-packages (from requests<3,>=2.20.0->mxnet-cu101) (1.24.3)\n",
            "Requirement already satisfied, skipping upgrade: chardet<4,>=3.0.2 in /usr/local/lib/python3.6/dist-packages (from requests<3,>=2.20.0->mxnet-cu101) (3.0.4)\n",
            "Requirement already satisfied, skipping upgrade: idna<3,>=2.5 in /usr/local/lib/python3.6/dist-packages (from requests<3,>=2.20.0->mxnet-cu101) (2.9)\n",
            "Requirement already satisfied, skipping upgrade: python-dateutil>=2.1 in /usr/local/lib/python3.6/dist-packages (from matplotlib->gluoncv) (2.8.1)\n",
            "Requirement already satisfied, skipping upgrade: kiwisolver>=1.0.1 in /usr/local/lib/python3.6/dist-packages (from matplotlib->gluoncv) (1.2.0)\n",
            "Requirement already satisfied, skipping upgrade: cycler>=0.10 in /usr/local/lib/python3.6/dist-packages (from matplotlib->gluoncv) (0.10.0)\n",
            "Requirement already satisfied, skipping upgrade: pyparsing!=2.0.4,!=2.1.2,!=2.1.6,>=2.0.1 in /usr/local/lib/python3.6/dist-packages (from matplotlib->gluoncv) (2.4.7)\n",
            "Requirement already satisfied, skipping upgrade: six>=1.5 in /usr/local/lib/python3.6/dist-packages (from python-dateutil>=2.1->matplotlib->gluoncv) (1.12.0)\n",
            "Installing collected packages: portalocker, gluoncv\n",
            "Successfully installed gluoncv-0.7.0 portalocker-1.7.0\n"
          ],
          "name": "stdout"
        }
      ]
    },
    {
      "cell_type": "markdown",
      "metadata": {
        "id": "CbGXlrOmr3Pg",
        "colab_type": "text"
      },
      "source": [
        "#### 3.3 Network architecture\n",
        "\n",
        "We will be utilizing mean pooling, rather than max pooling, for the sentiment classification problem. \n",
        "\n",
        "Our main network itself (defined below as SentimentNet) will consist of an embedding and encoder layers (which are pre-trained and provided by gluonnlp), a mean pooling layer, a fully connected dense layer w/ RELU activation, and finally, a final, single neuron output layer (which will contain the probability that our sentence is negative/positive)."
      ]
    },
    {
      "cell_type": "code",
      "metadata": {
        "id": "5wPcikPViw1V",
        "colab_type": "code",
        "colab": {}
      },
      "source": [
        "import gluonnlp as nlp\n",
        "import mxnet as mx\n",
        "from mxnet import nd, gluon, autograd \n",
        "\n",
        "class MeanPoolingLayer(gluon.HybridBlock):\n",
        "    def __init__(self, prefix=None, params=None):\n",
        "        super(MeanPoolingLayer, self).__init__(prefix=prefix, params=params)\n",
        "\n",
        "    def hybrid_forward(self, F, data, valid_length): \n",
        "        masked_encoded = F.SequenceMask(data,\n",
        "                                        sequence_length=valid_length,\n",
        "                                        use_sequence_length=True)\n",
        "        agg_state = F.broadcast_div(F.sum(masked_encoded, axis=0),\n",
        "                                    F.expand_dims(valid_length, axis=1))\n",
        "        return agg_state\n",
        "\n",
        "\n",
        "class SentimentNet(gluon.HybridBlock):\n",
        "    def __init__(self, dropout, prefix=None, params=None):\n",
        "        super(SentimentNet, self).__init__(prefix=prefix, params=params)\n",
        "        with self.name_scope():\n",
        "            self.embedding = None \n",
        "            self.encoder = None \n",
        "            self.agg_layer = MeanPoolingLayer()\n",
        "            self.dense1 = gluon.nn.Dense(150, activation='relu')\n",
        "            self.output = gluon.nn.Dense(1, flatten=True)\n",
        "\n",
        "    def hybrid_forward(self, F, data, valid_length): \n",
        "        encoded = self.encoder(self.embedding(data))  \n",
        "        agg_state = self.agg_layer(encoded, valid_length)\n",
        "        middle = self.dense1(agg_state)\n",
        "        final = self.output(middle)\n",
        "        return final"
      ],
      "execution_count": 0,
      "outputs": []
    },
    {
      "cell_type": "markdown",
      "metadata": {
        "id": "ly1SPqeIxtx0",
        "colab_type": "text"
      },
      "source": [
        "We download the pre-trained LSTM model here, as well as set our learning rate (10^-3) and batch size."
      ]
    },
    {
      "cell_type": "code",
      "metadata": {
        "id": "TbexSSGWi31l",
        "colab_type": "code",
        "colab": {}
      },
      "source": [
        "dropout = 0\n",
        "language_model_name = 'standard_lstm_lm_200'\n",
        "pretrained = True\n",
        "learning_rate, batch_size = 0.001, 32\n",
        "bucket_num, bucket_ratio = 10, 0.2\n",
        "epochs = 1\n",
        "grad_clip = None\n",
        "log_interval = 100"
      ],
      "execution_count": 0,
      "outputs": []
    },
    {
      "cell_type": "code",
      "metadata": {
        "id": "bj_7o_cMjKuD",
        "colab_type": "code",
        "colab": {}
      },
      "source": [
        "context = mx.gpu(0)"
      ],
      "execution_count": 0,
      "outputs": []
    },
    {
      "cell_type": "code",
      "metadata": {
        "id": "oRPs5j1PjMDO",
        "colab_type": "code",
        "colab": {
          "base_uri": "https://localhost:8080/",
          "height": 88
        },
        "outputId": "e3663f9f-3a08-40fe-b676-28ab30b2cd46"
      },
      "source": [
        "lm_model, vocab = nlp.model.get_model(name=language_model_name,\n",
        "                                      dataset_name='wikitext-2',\n",
        "                                      pretrained=pretrained,\n",
        "                                      ctx=context,\n",
        "                                      dropout=dropout)"
      ],
      "execution_count": 12,
      "outputs": [
        {
          "output_type": "stream",
          "text": [
            "Vocab file is not found. Downloading.\n",
            "Downloading /root/.mxnet/models/1781604353329822228/1781604353329822228_wikitext-2-be36dc52.zip from https://apache-mxnet.s3-accelerate.dualstack.amazonaws.com/gluon/dataset/vocab/wikitext-2-be36dc52.zip...\n",
            "Downloading /root/.mxnet/models/standard_lstm_lm_200_wikitext-2-b233c700.zip17eb7833-9332-42ac-aa80-aacc54ae48aa from https://apache-mxnet.s3-accelerate.dualstack.amazonaws.com/gluon/models/standard_lstm_lm_200_wikitext-2-b233c700.zip...\n"
          ],
          "name": "stdout"
        }
      ]
    },
    {
      "cell_type": "markdown",
      "metadata": {
        "id": "AUHo_OpJx6wj",
        "colab_type": "text"
      },
      "source": [
        "Finally, we initialize our SentimentNet -- setting the embedding/encoder layers to the pre-trained weights and initializing our second-to-last and final dense layers. "
      ]
    },
    {
      "cell_type": "code",
      "metadata": {
        "id": "JVB3MKxcjODW",
        "colab_type": "code",
        "outputId": "53bcaf1a-1d74-4911-9379-a645f6ff5063",
        "colab": {
          "base_uri": "https://localhost:8080/",
          "height": 204
        }
      },
      "source": [
        "net = SentimentNet(dropout=dropout)\n",
        "net.embedding = lm_model.embedding\n",
        "net.encoder = lm_model.encoder\n",
        "net.hybridize()\n",
        "net.dense1.initialize(mx.init.Xavier(), ctx=context)\n",
        "net.output.initialize(mx.init.Xavier(), ctx=context)\n",
        "print(net)"
      ],
      "execution_count": 13,
      "outputs": [
        {
          "output_type": "stream",
          "text": [
            "SentimentNet(\n",
            "  (embedding): HybridSequential(\n",
            "    (0): Embedding(33278 -> 200, float32)\n",
            "  )\n",
            "  (encoder): LSTM(200 -> 200, TNC, num_layers=2)\n",
            "  (agg_layer): MeanPoolingLayer(\n",
            "  \n",
            "  )\n",
            "  (dense1): Dense(None -> 150, Activation(relu))\n",
            "  (output): Dense(None -> 1, linear)\n",
            ")\n"
          ],
          "name": "stdout"
        }
      ]
    },
    {
      "cell_type": "markdown",
      "metadata": {
        "id": "f6opRHriyM8B",
        "colab_type": "text"
      },
      "source": [
        "#### 3.4 Loading/cleaning training data\n",
        "\n",
        "Instead of training on the SEPTA tweets (which are unlabeled), we instead train on the Kaggle Twitter140 dataset, which contains 1.6 million positive/negative tweets (800k of each). The dataset is linked here: https://www.kaggle.com/kazanova/sentiment140. The reasoning behind this is that the SEPTA tweets should be written in similar style/language to other tweets -- so training on a much larger sample size of a similar domain should be sufficient.\n",
        "\n",
        "First, we drop the irrelevant columns and re-cast negative sentiment to 0 and positive to 1."
      ]
    },
    {
      "cell_type": "code",
      "metadata": {
        "id": "UnhouSbJlIeZ",
        "colab_type": "code",
        "outputId": "d68b42d7-edd6-40c5-b7a6-c5fcb12aa835",
        "colab": {
          "base_uri": "https://localhost:8080/",
          "height": 419
        }
      },
      "source": [
        "columns = [\"target\", \"id\", \"date\", \"flag\", \"user\", \"text\"]\n",
        "sentiment_df = pd.read_csv('/content/gdrive/My Drive/CIS545_2020/emotion.csv', \n",
        "                           encoding=\"ISO-8859-1\", names=columns, header=None)\n",
        "sentiment_df['target'] = sentiment_df['target'].apply(lambda x : 0 if (x == 0) \n",
        "                                                          else 1)\n",
        "sentiment_df = sentiment_df.drop(labels=['id', 'date', 'flag', 'user'], axis=1)\n",
        "sentiment_df"
      ],
      "execution_count": 14,
      "outputs": [
        {
          "output_type": "execute_result",
          "data": {
            "text/html": [
              "<div>\n",
              "<style scoped>\n",
              "    .dataframe tbody tr th:only-of-type {\n",
              "        vertical-align: middle;\n",
              "    }\n",
              "\n",
              "    .dataframe tbody tr th {\n",
              "        vertical-align: top;\n",
              "    }\n",
              "\n",
              "    .dataframe thead th {\n",
              "        text-align: right;\n",
              "    }\n",
              "</style>\n",
              "<table border=\"1\" class=\"dataframe\">\n",
              "  <thead>\n",
              "    <tr style=\"text-align: right;\">\n",
              "      <th></th>\n",
              "      <th>target</th>\n",
              "      <th>text</th>\n",
              "    </tr>\n",
              "  </thead>\n",
              "  <tbody>\n",
              "    <tr>\n",
              "      <th>0</th>\n",
              "      <td>0</td>\n",
              "      <td>@switchfoot http://twitpic.com/2y1zl - Awww, t...</td>\n",
              "    </tr>\n",
              "    <tr>\n",
              "      <th>1</th>\n",
              "      <td>0</td>\n",
              "      <td>is upset that he can't update his Facebook by ...</td>\n",
              "    </tr>\n",
              "    <tr>\n",
              "      <th>2</th>\n",
              "      <td>0</td>\n",
              "      <td>@Kenichan I dived many times for the ball. Man...</td>\n",
              "    </tr>\n",
              "    <tr>\n",
              "      <th>3</th>\n",
              "      <td>0</td>\n",
              "      <td>my whole body feels itchy and like its on fire</td>\n",
              "    </tr>\n",
              "    <tr>\n",
              "      <th>4</th>\n",
              "      <td>0</td>\n",
              "      <td>@nationwideclass no, it's not behaving at all....</td>\n",
              "    </tr>\n",
              "    <tr>\n",
              "      <th>...</th>\n",
              "      <td>...</td>\n",
              "      <td>...</td>\n",
              "    </tr>\n",
              "    <tr>\n",
              "      <th>1599995</th>\n",
              "      <td>1</td>\n",
              "      <td>Just woke up. Having no school is the best fee...</td>\n",
              "    </tr>\n",
              "    <tr>\n",
              "      <th>1599996</th>\n",
              "      <td>1</td>\n",
              "      <td>TheWDB.com - Very cool to hear old Walt interv...</td>\n",
              "    </tr>\n",
              "    <tr>\n",
              "      <th>1599997</th>\n",
              "      <td>1</td>\n",
              "      <td>Are you ready for your MoJo Makeover? Ask me f...</td>\n",
              "    </tr>\n",
              "    <tr>\n",
              "      <th>1599998</th>\n",
              "      <td>1</td>\n",
              "      <td>Happy 38th Birthday to my boo of alll time!!! ...</td>\n",
              "    </tr>\n",
              "    <tr>\n",
              "      <th>1599999</th>\n",
              "      <td>1</td>\n",
              "      <td>happy #charitytuesday @theNSPCC @SparksCharity...</td>\n",
              "    </tr>\n",
              "  </tbody>\n",
              "</table>\n",
              "<p>1600000 rows × 2 columns</p>\n",
              "</div>"
            ],
            "text/plain": [
              "         target                                               text\n",
              "0             0  @switchfoot http://twitpic.com/2y1zl - Awww, t...\n",
              "1             0  is upset that he can't update his Facebook by ...\n",
              "2             0  @Kenichan I dived many times for the ball. Man...\n",
              "3             0    my whole body feels itchy and like its on fire \n",
              "4             0  @nationwideclass no, it's not behaving at all....\n",
              "...         ...                                                ...\n",
              "1599995       1  Just woke up. Having no school is the best fee...\n",
              "1599996       1  TheWDB.com - Very cool to hear old Walt interv...\n",
              "1599997       1  Are you ready for your MoJo Makeover? Ask me f...\n",
              "1599998       1  Happy 38th Birthday to my boo of alll time!!! ...\n",
              "1599999       1  happy #charitytuesday @theNSPCC @SparksCharity...\n",
              "\n",
              "[1600000 rows x 2 columns]"
            ]
          },
          "metadata": {
            "tags": []
          },
          "execution_count": 14
        }
      ]
    },
    {
      "cell_type": "markdown",
      "metadata": {
        "id": "GdIoGSqpzAFB",
        "colab_type": "text"
      },
      "source": [
        "We now utilize a library called tweet-preprocessor to clean our tweets; this is simply easier to do than manually filtering the string with regular expressions. "
      ]
    },
    {
      "cell_type": "code",
      "metadata": {
        "id": "-hX74QX6-ojp",
        "colab_type": "code",
        "outputId": "9a517dd6-2355-4748-bd7d-c7a9619110fc",
        "colab": {
          "base_uri": "https://localhost:8080/",
          "height": 170
        }
      },
      "source": [
        "!pip3 install tweet-preprocessor"
      ],
      "execution_count": 15,
      "outputs": [
        {
          "output_type": "stream",
          "text": [
            "Collecting tweet-preprocessor\n",
            "  Downloading https://files.pythonhosted.org/packages/2a/f8/810ec35c31cca89bc4f1a02c14b042b9ec6c19dd21f7ef1876874ef069a6/tweet-preprocessor-0.5.0.tar.gz\n",
            "Building wheels for collected packages: tweet-preprocessor\n",
            "  Building wheel for tweet-preprocessor (setup.py) ... \u001b[?25l\u001b[?25hdone\n",
            "  Created wheel for tweet-preprocessor: filename=tweet_preprocessor-0.5.0-cp36-none-any.whl size=7947 sha256=d7f2cff19a17bba9f1105c9c0ac32b4cfec55a4c2bbb55c4cc917f28682b599a\n",
            "  Stored in directory: /root/.cache/pip/wheels/1b/27/cc/49938e98a2470802ebdefae9d2b3f524768e970c1ebbe2dc4a\n",
            "Successfully built tweet-preprocessor\n",
            "Installing collected packages: tweet-preprocessor\n",
            "Successfully installed tweet-preprocessor-0.5.0\n"
          ],
          "name": "stdout"
        }
      ]
    },
    {
      "cell_type": "code",
      "metadata": {
        "id": "KUcKfE-O-rFS",
        "colab_type": "code",
        "colab": {}
      },
      "source": [
        "import preprocessor as p\n",
        "p.set_options(p.OPT.URL, p.OPT.EMOJI, p.OPT.HASHTAG, p.OPT.MENTION)"
      ],
      "execution_count": 0,
      "outputs": []
    },
    {
      "cell_type": "code",
      "metadata": {
        "id": "ZBY7YqqCXRAG",
        "colab_type": "code",
        "colab": {}
      },
      "source": [
        "import re\n",
        "\n",
        "def clean_string(string):\n",
        "    '''\n",
        "    string = re.sub(r\"[^A-Za-z0-9(),!?\\'\\`]\", \" \", string)\n",
        "    string = re.sub(r\"\\'s\", \" \\'s\", string)\n",
        "    string = re.sub(r\"\\'ve\", \" \\'ve\", string)\n",
        "    string = re.sub(r\"n\\'t\", \" n\\'t\", string)\n",
        "    string = re.sub(r\"\\'re\", \" \\'re\", string)\n",
        "    string = re.sub(r\"\\'d\", \" \\'d\", string)\n",
        "    string = re.sub(r\"\\'ll\", \" \\'ll\", string)\n",
        "    string = re.sub(r\",\", \" , \", string)\n",
        "    string = re.sub(r\"!\", \" ! \", string)\n",
        "    string = re.sub(r\"\\(\", \" \\( \", string)\n",
        "    string = re.sub(r\"\\)\", \" \\) \", string)\n",
        "    string = re.sub(r\"\\?\", \" \\? \", string)\n",
        "    string = re.sub(r\"\\s{2,}\", \" \", string)\n",
        "    string = re.sub(r\"http\\S+\", \"\", string)\n",
        "    '''\n",
        "    return p.clean(string).lower()\n",
        "\n",
        "# clean strings in the dataframe\n",
        "sentiment_df.text = sentiment_df.text.apply(lambda x : clean_string(x))"
      ],
      "execution_count": 0,
      "outputs": []
    },
    {
      "cell_type": "markdown",
      "metadata": {
        "id": "RW-1iTYqzJf9",
        "colab_type": "text"
      },
      "source": [
        "After cleaning, we also want to drop all tweets that have become empty."
      ]
    },
    {
      "cell_type": "code",
      "metadata": {
        "id": "EPQyqbIAcjlR",
        "colab_type": "code",
        "colab": {}
      },
      "source": [
        "sentiment_df = sentiment_df[sentiment_df['text'] != \"\"]"
      ],
      "execution_count": 0,
      "outputs": []
    },
    {
      "cell_type": "markdown",
      "metadata": {
        "id": "zHo9XNCnzRaj",
        "colab_type": "text"
      },
      "source": [
        "We define a preprocess function that will tokenize a sentence; what this means is, given a sentence such as, \"The cat is walking,\" we want to represent this as an array of integers, such as [20, 14, 15, 300]. \n",
        "\n",
        "To do this, we use a tokenizer imported from gluonnlp. We also clip all tweets greater than 500 characters."
      ]
    },
    {
      "cell_type": "code",
      "metadata": {
        "id": "YBVBj-o-k0UF",
        "colab_type": "code",
        "colab": {}
      },
      "source": [
        "# tokenize a given string\n",
        "tokenizer = nlp.data.SpacyTokenizer('en')\n",
        "length_clip = nlp.data.ClipSequence(500)\n",
        "\n",
        "# Helper function to preprocess a single data point\n",
        "def preprocess(x):\n",
        "    label, data = x\n",
        "    # A token index or a list of token indices is\n",
        "    # returned according to the vocabulary.\n",
        "    data = vocab[length_clip(tokenizer(data))]\n",
        "    return data, label"
      ],
      "execution_count": 0,
      "outputs": []
    },
    {
      "cell_type": "markdown",
      "metadata": {
        "id": "TsQgqWjgzflc",
        "colab_type": "text"
      },
      "source": [
        "Below, we create our test and train splits, once again using a 80:20 ratio. "
      ]
    },
    {
      "cell_type": "code",
      "metadata": {
        "id": "ixffb5dhY6xo",
        "colab_type": "code",
        "colab": {}
      },
      "source": [
        "from sklearn.model_selection import train_test_split\n",
        "\n",
        "train, test = train_test_split(sentiment_df, test_size=0.2)\n",
        "train_dataset = train.to_numpy()\n",
        "test_dataset = test.to_numpy()"
      ],
      "execution_count": 0,
      "outputs": []
    },
    {
      "cell_type": "markdown",
      "metadata": {
        "id": "aQOcs0wSzjbj",
        "colab_type": "text"
      },
      "source": [
        "Now that we have our train and test samples, we still need to tokenize them before we can train using them. This is done using python's built-in multiprocessing library."
      ]
    },
    {
      "cell_type": "code",
      "metadata": {
        "id": "6KKeWwG3ln7G",
        "colab_type": "code",
        "outputId": "41b24bcf-d040-4003-8a96-c5595f3fec96",
        "colab": {
          "base_uri": "https://localhost:8080/",
          "height": 51
        }
      },
      "source": [
        "import time\n",
        "import multiprocessing as mp \n",
        "\n",
        "def preprocess_dataset(dataset):\n",
        "    start = time.time()\n",
        "    with mp.Pool() as pool:\n",
        "        dataset = gluon.data.SimpleDataset(pool.map(preprocess, dataset))\n",
        "    end = time.time()\n",
        "    print('Done! Tokenizing Time={:.2f}s, #Sentences={}'.format(end - start, len(dataset)))\n",
        "    return dataset\n",
        "\n",
        "# Doing the actual pre-processing of the dataset\n",
        "train_dataset = preprocess_dataset(train_dataset)\n",
        "test_dataset = preprocess_dataset(test_dataset)"
      ],
      "execution_count": 21,
      "outputs": [
        {
          "output_type": "stream",
          "text": [
            "Done! Tokenizing Time=77.30s, #Sentences=1277558\n",
            "Done! Tokenizing Time=19.64s, #Sentences=319390\n"
          ],
          "name": "stdout"
        }
      ]
    },
    {
      "cell_type": "markdown",
      "metadata": {
        "id": "6X04H-VbzzS5",
        "colab_type": "text"
      },
      "source": [
        "Finally, we create train and test DataLoader objects to be fed into our training function. We specify a batch size of 32 for the training data and 16 for the testing data. We also define a batchify function that pads our input data."
      ]
    },
    {
      "cell_type": "code",
      "metadata": {
        "id": "oM2wmbIFm2xQ",
        "colab_type": "code",
        "colab": {}
      },
      "source": [
        "def get_dataloader():\n",
        "    # Construct a DataLoader object for both the training and test data\n",
        "    batchify_fn = nlp.data.batchify.Tuple(\n",
        "        nlp.data.batchify.Pad(axis=0, pad_val=0, ret_length=True),\n",
        "        nlp.data.batchify.Stack(dtype='float32'))\n",
        "    train_dataloader = gluon.data.DataLoader(\n",
        "        dataset=train_dataset,\n",
        "        batch_size=32,\n",
        "        shuffle=True,\n",
        "        batchify_fn=batchify_fn)\n",
        "    test_dataloader = gluon.data.DataLoader(\n",
        "        dataset=test_dataset,\n",
        "        batch_size=16,\n",
        "        shuffle=False,\n",
        "        batchify_fn=batchify_fn)\n",
        "    return train_dataloader, test_dataloader\n",
        "\n",
        "train_dataloader, test_dataloader = get_dataloader()"
      ],
      "execution_count": 0,
      "outputs": []
    },
    {
      "cell_type": "markdown",
      "metadata": {
        "id": "ZRztYo9C0P14",
        "colab_type": "text"
      },
      "source": [
        "#### 3.5 Evaluation and training\n",
        "\n",
        "We create an evaluate function that evaluates our network against a test dataset. We will use binary cross-entropy loss in this function."
      ]
    },
    {
      "cell_type": "code",
      "metadata": {
        "id": "8vyhc6RNnLhN",
        "colab_type": "code",
        "colab": {}
      },
      "source": [
        "def evaluate(net, dataloader, context):\n",
        "    loss = gluon.loss.SigmoidBCELoss()\n",
        "    total_L = 0.0\n",
        "    total_sample_num = 0\n",
        "    total_correct_num = 0\n",
        "    start_log_interval_time = time.time()\n",
        "\n",
        "    print('Begin Testing...')\n",
        "    for i, ((data, valid_length), label) in enumerate(dataloader):\n",
        "        data = mx.nd.transpose(data.as_in_context(context))\n",
        "        valid_length = valid_length.as_in_context(context).astype(np.float32)\n",
        "        label = label.as_in_context(context)\n",
        "        output = net(data, valid_length)\n",
        "\n",
        "        L = loss(output, label)\n",
        "        pred = (output > 0.5).reshape(-1)\n",
        "        total_L += L.sum().asscalar()\n",
        "        total_sample_num += label.shape[0]\n",
        "        total_correct_num += (pred == label).sum().asscalar()\n",
        "\n",
        "        if (i + 1) % log_interval == 0:\n",
        "            print('[Batch {}/{}] elapsed {:.2f} s'.format(\n",
        "                i + 1, len(dataloader),\n",
        "                time.time() - start_log_interval_time))\n",
        "            start_log_interval_time = time.time()\n",
        "\n",
        "    avg_L = total_L / float(total_sample_num)\n",
        "    acc = total_correct_num / float(total_sample_num)\n",
        "\n",
        "    return avg_L, acc"
      ],
      "execution_count": 0,
      "outputs": []
    },
    {
      "cell_type": "markdown",
      "metadata": {
        "id": "IqLsKVgW0p57",
        "colab_type": "text"
      },
      "source": [
        "Our train function is structured similarly to any other neural network training function. We iterate through the batches/samples in our train loader, generate predictions, and backpropogate. Every 100 batches, we print out the current loss.\n",
        "\n",
        "Since this is a transfer learning approach, we will only need to run 1 epoch (as we are only training the last couple layers; most of the network is \"frozen\")."
      ]
    },
    {
      "cell_type": "code",
      "metadata": {
        "id": "VZHOgTS-nO5R",
        "colab_type": "code",
        "colab": {}
      },
      "source": [
        "def train(net, context, epochs):\n",
        "    trainer = gluon.Trainer(net.collect_params(), 'ftml',\n",
        "                            {'learning_rate': learning_rate})\n",
        "    loss = gluon.loss.SigmoidBCELoss()\n",
        "\n",
        "    parameters = net.collect_params().values()\n",
        "\n",
        "    # Training/Testing\n",
        "    for epoch in range(epochs):\n",
        "        # Epoch training stats\n",
        "        start_epoch_time = time.time()\n",
        "        epoch_L = 0.0\n",
        "        epoch_sent_num = 0\n",
        "        epoch_wc = 0\n",
        "        # Log interval training stats\n",
        "        start_log_interval_time = time.time()\n",
        "        log_interval_wc = 0\n",
        "        log_interval_sent_num = 0\n",
        "        log_interval_L = 0.0\n",
        "\n",
        "        for i, ((data, length), label) in enumerate(train_dataloader):\n",
        "            L = 0\n",
        "            wc = length.sum().asscalar()\n",
        "            log_interval_wc += wc\n",
        "            epoch_wc += wc\n",
        "            log_interval_sent_num += data.shape[1]\n",
        "            epoch_sent_num += data.shape[1]\n",
        "            with autograd.record():\n",
        "                output = net(data.as_in_context(context).T,\n",
        "                             length.as_in_context(context)\n",
        "                                   .astype(np.float32))\n",
        "                L = L + loss(output, label.as_in_context(context)).mean()\n",
        "            L.backward()\n",
        "\n",
        "            if grad_clip:\n",
        "                gluon.utils.clip_global_norm(\n",
        "                    [p.grad(context) for p in parameters],\n",
        "                    grad_clip)\n",
        "\n",
        "            trainer.step(1)\n",
        "            log_interval_L += L.asscalar()\n",
        "            epoch_L += L.asscalar()\n",
        "            if (i + 1) % log_interval == 0:\n",
        "                print(\n",
        "                    '[Epoch {} Batch {}/{}] elapsed {:.2f} s, '\n",
        "                    'avg loss {:.6f}, throughput {:.2f}K wps'.format(\n",
        "                        epoch, i + 1, len(train_dataloader),\n",
        "                        time.time() - start_log_interval_time,\n",
        "                        log_interval_L / log_interval_sent_num, log_interval_wc\n",
        "                        / 1000 / (time.time() - start_log_interval_time)))\n",
        "\n",
        "                start_log_interval_time = time.time()\n",
        "                log_interval_wc = 0\n",
        "                log_interval_sent_num = 0\n",
        "                log_interval_L = 0\n",
        "        end_epoch_time = time.time()\n",
        "        test_avg_L, test_acc = evaluate(net, test_dataloader, context)\n",
        "        print('[Epoch {}] train avg loss {:.6f}, test acc {:.2f}, '\n",
        "              'test avg loss {:.6f}, throughput {:.2f}K wps'.format(\n",
        "                  epoch, epoch_L / epoch_sent_num, test_avg_L, test_acc,\n",
        "                  epoch_wc / 1000 / (end_epoch_time - start_epoch_time)))"
      ],
      "execution_count": 0,
      "outputs": []
    },
    {
      "cell_type": "code",
      "metadata": {
        "id": "zvRDqxtcnQfV",
        "colab_type": "code",
        "outputId": "4fb16c2a-6c5a-4fcb-e901-1cdd69084c60",
        "colab": {
          "base_uri": "https://localhost:8080/",
          "height": 68
        }
      },
      "source": [
        "train(net, context, epochs)"
      ],
      "execution_count": 49,
      "outputs": [
        {
          "output_type": "stream",
          "text": [
            "[...]\n",
            "[Epoch 0 Batch 39800/39924] elapsed 0.65 s, avg loss 0.010359, throughput 75.12K wps\n",
            "[Epoch 0 Batch 39900/39924] elapsed 0.65 s, avg loss 0.010354, throughput 75.12K wps\n"
          ],
          "name": "stdout"
        }
      ]
    },
    {
      "cell_type": "markdown",
      "metadata": {
        "id": "bD9FRgXCdKIB",
        "colab_type": "text"
      },
      "source": [
        "The final average loss was ~0.0103, and the final test accuracy was ~0.74. The above was terminated early in favor of time."
      ]
    },
    {
      "cell_type": "markdown",
      "metadata": {
        "id": "UWLS3yc01Ubu",
        "colab_type": "text"
      },
      "source": [
        "#### 3.6 SEPTA Analysis\n",
        "\n",
        "Now that we've trained our network -- its time to do some analysis! We start off by cleaning the SEPTA tweets (in a similar manner to how we cleaned the Twitter140 dataset). "
      ]
    },
    {
      "cell_type": "code",
      "metadata": {
        "id": "rxF1oiUSnlHR",
        "colab_type": "code",
        "colab": {
          "base_uri": "https://localhost:8080/",
          "height": 119
        },
        "outputId": "f7baca45-d52a-4e56-a2ee-c41510ba029f"
      },
      "source": [
        "septa_tweets['text'] = septa_tweets['text'].apply(lambda x : clean_string(x).strip())"
      ],
      "execution_count": 47,
      "outputs": [
        {
          "output_type": "stream",
          "text": [
            "/usr/local/lib/python3.6/dist-packages/ipykernel_launcher.py:1: SettingWithCopyWarning: \n",
            "A value is trying to be set on a copy of a slice from a DataFrame.\n",
            "Try using .loc[row_indexer,col_indexer] = value instead\n",
            "\n",
            "See the caveats in the documentation: https://pandas.pydata.org/pandas-docs/stable/user_guide/indexing.html#returning-a-view-versus-a-copy\n",
            "  \"\"\"Entry point for launching an IPython kernel.\n"
          ],
          "name": "stderr"
        }
      ]
    },
    {
      "cell_type": "markdown",
      "metadata": {
        "id": "saoxI95E2xTT",
        "colab_type": "text"
      },
      "source": [
        "Next, we define a function get_prediction that makes it super easy for us to input a sentence and get an output sentiment (closer to 0 indicates negative, closer to 1 indicates positive). "
      ]
    },
    {
      "cell_type": "code",
      "metadata": {
        "id": "KZ_A23oaouxy",
        "colab_type": "code",
        "colab": {
          "base_uri": "https://localhost:8080/",
          "height": 119
        },
        "outputId": "89fe5b17-7e0c-4ede-d874-c35596ab39d4"
      },
      "source": [
        "def get_prediction(x):\n",
        "  split = [word.strip() for word in x.split()]\n",
        "  arr = mx.nd.array(vocab[split])\n",
        "  if (len(arr) == 0):\n",
        "    return -1\n",
        "  return net(\n",
        "    mx.nd.reshape(\n",
        "        mx.nd.array(arr, ctx=context),\n",
        "        shape=(-1, 1)), mx.nd.array([len(split)], ctx=context)).sigmoid()[0].asscalar() \n",
        "\n",
        "septa_tweets['prediction'] = septa_tweets['text'].apply(lambda x : get_prediction(x))"
      ],
      "execution_count": 48,
      "outputs": [
        {
          "output_type": "stream",
          "text": [
            "/usr/local/lib/python3.6/dist-packages/ipykernel_launcher.py:11: SettingWithCopyWarning: \n",
            "A value is trying to be set on a copy of a slice from a DataFrame.\n",
            "Try using .loc[row_indexer,col_indexer] = value instead\n",
            "\n",
            "See the caveats in the documentation: https://pandas.pydata.org/pandas-docs/stable/user_guide/indexing.html#returning-a-view-versus-a-copy\n",
            "  # This is added back by InteractiveShellApp.init_path()\n"
          ],
          "name": "stderr"
        }
      ]
    },
    {
      "cell_type": "markdown",
      "metadata": {
        "id": "0NQ5gHxPe-B5",
        "colab_type": "text"
      },
      "source": [
        "Its worth noting that we only want to keep values >= 0, so we filter the septa_tweets dataset to reflect this.\n",
        "\n",
        "For validation purposes, lets also look at some of the tweets labeled with a sentiment >= 0.95 and some of the tweets labeled with a sentiment of <= 0.05 to make sure our network wasn't *too* far off. "
      ]
    },
    {
      "cell_type": "code",
      "metadata": {
        "id": "cReFLVWf8jrU",
        "colab_type": "code",
        "colab": {
          "base_uri": "https://localhost:8080/",
          "height": 241
        },
        "outputId": "ed546e1e-b3f9-4174-cd48-3bcaaa88f89d"
      },
      "source": [
        "random_indices = np.random.choice(510, 5)\n",
        "print(\"Positive:\")\n",
        "for i in range(5):\n",
        "  print(septa_tweets[septa_tweets['prediction'] >= 0.95]['text'].values[random_indices[i]])\n",
        "\n",
        "print(\"Negative:\")\n",
        "for i in range(5):\n",
        "  print(septa_tweets[septa_tweets['prediction'] <= 0.05]['text'].values[random_indices[i]])"
      ],
      "execution_count": 66,
      "outputs": [
        {
          "output_type": "stream",
          "text": [
            "Positive:\n",
            "is the 10 trolley running with delays?\n",
            "the conductor and driver of the current manayunk/norristown line regional rail are awesome guys. extremely helpful, kudos to them\n",
            "- will an upgraded student trans pass be honored on regional rail thursday? thanks.\n",
            "thank you amy for tweeting this. you are such angel of an individual and human being. thank you.\n",
            "absolutely love your new rides! aka\n",
            "Negative:\n",
            "why did train 521 have only two cars?\n",
            "your 108 bus number 5884 picked up at the airport with the sign \"69th st\" but went to airport business center causing everyone to miss the actual 69th st. bus.\n",
            "why did the 22 bus ride pass me number 3311\n",
            "why are we still only paying with cash when we get on the regional rail? most of us clearly have cards, let us swipe when the station doesn’t offer tickets. kicking me off the train is extremely outside of 2018\n",
            "spent 2.5 hours on the bus today for a trip that normally takes less than 30 min. the driver took a different route due to traffic. he said that sept doesn’t allow him to stop outside of the regular stops for the bus route. that policy needs to change!\n"
          ],
          "name": "stdout"
        }
      ]
    },
    {
      "cell_type": "markdown",
      "metadata": {
        "id": "d_azjS-ggN8W",
        "colab_type": "text"
      },
      "source": [
        "In the above random run, it looks like our network does a pretty good job of distinguishing between positive/negaive sentiment. However, it's worth noting that, in some runs of the above cell -- some sarcastic comments would end up being labeled as positive (ex: \"Thanks for nothing, SEPTA!\").\n",
        "\n",
        "Let's quickly look at the distribution of sentiment in tweets."
      ]
    },
    {
      "cell_type": "code",
      "metadata": {
        "id": "W2NrOcLH8qc6",
        "colab_type": "code",
        "outputId": "8837c5cc-3bbe-47c6-ba01-9ac9664e60a5",
        "colab": {
          "base_uri": "https://localhost:8080/",
          "height": 282
        }
      },
      "source": [
        "septa_tweets['prediction'].hist()"
      ],
      "execution_count": 51,
      "outputs": [
        {
          "output_type": "execute_result",
          "data": {
            "text/plain": [
              "<matplotlib.axes._subplots.AxesSubplot at 0x7fa24fef9898>"
            ]
          },
          "metadata": {
            "tags": []
          },
          "execution_count": 51
        },
        {
          "output_type": "display_data",
          "data": {
            "image/png": "[encoded data removed]",
            "text/plain": [
              "<Figure size 432x288 with 1 Axes>"
            ]
          },
          "metadata": {
            "tags": [],
            "needs_background": "light"
          }
        }
      ]
    },
    {
      "cell_type": "markdown",
      "metadata": {
        "id": "YcFNyfEDgd4C",
        "colab_type": "text"
      },
      "source": [
        "Nice, this is basically what we expected: skewed strongly to the right.\n",
        "\n",
        "Below, we're now going to look at sentiment as a function of weekday."
      ]
    },
    {
      "cell_type": "code",
      "metadata": {
        "id": "5dRdJrzV-BDX",
        "colab_type": "code",
        "colab": {
          "base_uri": "https://localhost:8080/",
          "height": 71
        },
        "outputId": "65dc6d1e-03e3-476f-ca67-d6c4dbe4ad24"
      },
      "source": [
        "import seaborn as sb \n",
        "\n",
        "weekday_map = {\n",
        "     0 : \"Mon\", \n",
        "     1 : \"Tues\",\n",
        "     2 : \"Wed\",\n",
        "     3 : \"Thurs\",\n",
        "     4 : \"Fri\",\n",
        "     5 : \"Sat\",\n",
        "     6 : \"Sun\"\n",
        "}\n",
        "septa_tweets['weekday'] = septa_tweets['timestamp'].apply(lambda x : \n",
        "                                                  weekday_map[x.weekday()])\n",
        "septa_tweets['weekday_num'] = septa_tweets['timestamp'].apply(lambda x : \n",
        "                                                              x.weekday())\n",
        "septa_tweets['hour'] = septa_tweets['timestamp'].apply(lambda x : \n",
        "                                                              x.hour)"
      ],
      "execution_count": 67,
      "outputs": [
        {
          "output_type": "stream",
          "text": [
            "/usr/local/lib/python3.6/dist-packages/statsmodels/tools/_testing.py:19: FutureWarning: pandas.util.testing is deprecated. Use the functions in the public API at pandas.testing instead.\n",
            "  import pandas.util.testing as tm\n"
          ],
          "name": "stderr"
        }
      ]
    },
    {
      "cell_type": "code",
      "metadata": {
        "id": "wus6hExMBA7k",
        "colab_type": "code",
        "outputId": "73d3872d-f0f0-40b8-c3ae-2cbd9b726e9a",
        "colab": {
          "base_uri": "https://localhost:8080/",
          "height": 312
        }
      },
      "source": [
        "ax = sb.boxplot(x=septa_tweets['weekday'], y=septa_tweets['prediction'], showfliers=False)\n",
        "plt.title(\"Average sentiment over all tweets\")\n",
        "plt.xlabel(\"Weekday\")\n",
        "plt.ylabel(\"Sentiment\")\n",
        "plt.show()\n",
        "print(septa_tweets['prediction'].mean())"
      ],
      "execution_count": 71,
      "outputs": [
        {
          "output_type": "display_data",
          "data": {
            "image/png": "[encoded data removed]",
            "text/plain": [
              "<Figure size 432x288 with 1 Axes>"
            ]
          },
          "metadata": {
            "tags": [],
            "needs_background": "light"
          }
        },
        {
          "output_type": "stream",
          "text": [
            "0.36957348360363346\n"
          ],
          "name": "stdout"
        }
      ]
    },
    {
      "cell_type": "markdown",
      "metadata": {
        "id": "GoEnphhRgrqV",
        "colab_type": "text"
      },
      "source": [
        "It looks like general sentiment across weekdays doesn't seem to vary *too* much; Sunday seems to be slightly higher, possibly because there aren't as many riders. However, this plot is consistent with our hypothesis that -- generally -- people tweet @SEPTA when they are unhappy (mean sentiment of **0.37**).\n",
        "\n",
        "Let's look at this same plot now, except with values from the last 2 months (i.e. COVID time).\n"
      ]
    },
    {
      "cell_type": "code",
      "metadata": {
        "id": "pyCw99eNBN-b",
        "colab_type": "code",
        "outputId": "b3a98e21-e49d-4b21-cedb-ab4c068cf5a1",
        "colab": {
          "base_uri": "https://localhost:8080/",
          "height": 312
        }
      },
      "source": [
        "ax = sb.boxplot(x=septa_tweets['weekday'][1:800], y=septa_tweets['prediction'][1:800], showfliers=False)\n",
        "plt.title(\"Average sentiment over past 2 months\")\n",
        "plt.xlabel(\"Weekday\")\n",
        "plt.ylabel(\"Sentiment\")\n",
        "plt.show()\n",
        "print(septa_tweets['prediction'][1:800].mean())"
      ],
      "execution_count": 72,
      "outputs": [
        {
          "output_type": "display_data",
          "data": {
            "image/png": "[encoded data removed]",
            "text/plain": [
              "<Figure size 432x288 with 1 Axes>"
            ]
          },
          "metadata": {
            "tags": [],
            "needs_background": "light"
          }
        },
        {
          "output_type": "stream",
          "text": [
            "0.3400867182861382\n"
          ],
          "name": "stdout"
        }
      ]
    },
    {
      "cell_type": "markdown",
      "metadata": {
        "id": "FjiehBkjhquA",
        "colab_type": "text"
      },
      "source": [
        "Interesting! It looks like, during COVID, average sentiment dropped to **0.34**. The average on some weekdays (Monday, Tuesday, Friday) seems to be noticeably lower. Let's see if we can dig into this more!\n",
        "\n",
        "Let's plot average sentiment over *the hours* of the day (over all time vs last two months) and see if there's anything interesting! "
      ]
    },
    {
      "cell_type": "code",
      "metadata": {
        "id": "5fdZJu66PrEE",
        "colab_type": "code",
        "outputId": "ce071253-3a7e-459c-e549-74e5c9dbcb6e",
        "colab": {
          "base_uri": "https://localhost:8080/",
          "height": 295
        }
      },
      "source": [
        "ax = sb.boxplot(x=septa_tweets['hour'], y=septa_tweets['prediction'], showfliers=False)\n",
        "plt.title(\"Average sentiment over all tweets\")\n",
        "plt.xlabel(\"Hour of day\")\n",
        "plt.ylabel(\"Sentiment\")\n",
        "plt.show()"
      ],
      "execution_count": 76,
      "outputs": [
        {
          "output_type": "display_data",
          "data": {
            "image/png": "[encoded data removed]",
            "text/plain": [
              "<Figure size 432x288 with 1 Axes>"
            ]
          },
          "metadata": {
            "tags": [],
            "needs_background": "light"
          }
        }
      ]
    },
    {
      "cell_type": "markdown",
      "metadata": {
        "id": "lRYv8rrzim69",
        "colab_type": "text"
      },
      "source": [
        "It seems like sentiment dips around 7AM, but overall, the averages across hours seem to be relatively consistent. \n",
        "\n",
        "Now, for sentiment versus hour for the past 2 months:"
      ]
    },
    {
      "cell_type": "code",
      "metadata": {
        "id": "Oay1lzQASVVG",
        "colab_type": "code",
        "outputId": "affb93df-cc64-4af5-be62-1a896063edcd",
        "colab": {
          "base_uri": "https://localhost:8080/",
          "height": 295
        }
      },
      "source": [
        "ax = sb.boxplot(x=septa_tweets['hour'][1:800], y=septa_tweets['prediction'][1:800], showfliers=False)\n",
        "plt.title(\"Average sentiment over past 2 months\")\n",
        "plt.xlabel(\"Hour of day\")\n",
        "plt.ylabel(\"Sentiment\")\n",
        "plt.show()"
      ],
      "execution_count": 77,
      "outputs": [
        {
          "output_type": "display_data",
          "data": {
            "image/png": "[encoded data removed]",
            "text/plain": [
              "<Figure size 432x288 with 1 Axes>"
            ]
          },
          "metadata": {
            "tags": [],
            "needs_background": "light"
          }
        }
      ]
    },
    {
      "cell_type": "markdown",
      "metadata": {
        "id": "r8gnWVU4iZJg",
        "colab_type": "text"
      },
      "source": [
        "Barring the outlier 6AM (not sure why this would be super positive during COVID) -- there's a clear dip in the 7-8AM and 5-7PM sentiments during COVID.\n",
        "\n",
        "This is likely the case as it is when most people are getting on the SEPTA (going to work or from work) -- which means this is when they would express their disatisfaction with the current conditions of the train (whether this is sanitary concerns, SEPTA not doing enough, etc).  \n",
        "\n",
        "Cool stuff! "
      ]
    },
    {
      "cell_type": "markdown",
      "metadata": {
        "id": "ax6nzrbcjgCu",
        "colab_type": "text"
      },
      "source": [
        "#### 3.7 Word2Vec and TSNE\n",
        "\n",
        "As a final wrap up, its worth noting that we didn't generate our own word embeddings for the LSTM.\n",
        "\n",
        "To see what this would've been like, let's use Word2Vec to generate our own word-embeddings, and then visualize the resulting output with TSNE (to see if we can find any interesting correlations between words in the SEPTA tweets)."
      ]
    },
    {
      "cell_type": "code",
      "metadata": {
        "id": "nl6BbI27ihNv",
        "colab_type": "code",
        "colab": {}
      },
      "source": [
        "from gensim.models import Word2Vec\n",
        "from nltk.cluster import KMeansClusterer\n",
        "import nltk \n",
        "from sklearn import cluster\n",
        "from sklearn import metrics"
      ],
      "execution_count": 0,
      "outputs": []
    },
    {
      "cell_type": "code",
      "metadata": {
        "id": "EKoQXwfSTv17",
        "colab_type": "code",
        "outputId": "28db4ed5-bc4a-40f3-e117-6a7635dfb561",
        "colab": {
          "base_uri": "https://localhost:8080/",
          "height": 34
        }
      },
      "source": [
        "sentences = [x.split(\" \") for x in septa_tweets['text'].values]\n",
        "w2v_model = Word2Vec(sentences=sentences, size=30, min_count=50)"
      ],
      "execution_count": 79,
      "outputs": [
        {
          "output_type": "stream",
          "text": [
            "WARNING:gensim.models.base_any2vec:consider setting layer size to a multiple of 4 for greater performance\n"
          ],
          "name": "stderr"
        }
      ]
    },
    {
      "cell_type": "code",
      "metadata": {
        "id": "CVI9BB2tikNt",
        "colab_type": "code",
        "colab": {}
      },
      "source": [
        "from sklearn.manifold import TSNE\n",
        "\n",
        "def tsne_plot(model):\n",
        "    labels = []\n",
        "    tokens = []\n",
        "\n",
        "    for word in model.wv.vocab:\n",
        "        tokens.append(model[word])\n",
        "        labels.append(word)\n",
        "    \n",
        "    tsne_model = TSNE(perplexity=40, n_components=2, init='pca', \n",
        "                      n_iter=2500, random_state=23)\n",
        "    new_values = tsne_model.fit_transform(tokens)\n",
        "\n",
        "    x = []\n",
        "    y = []\n",
        "\n",
        "    for value in new_values:\n",
        "        x.append(value[0])\n",
        "        y.append(value[1])\n",
        "        \n",
        "    plt.figure(figsize=(16, 16)) \n",
        "    # make sure that label doesn't contain a $\n",
        "    for i in range(len(x)):\n",
        "        plt.scatter(x[i],y[i])\n",
        "        if ('$' not in labels[i]):\n",
        "          plt.annotate(labels[i],\n",
        "                      xy=(x[i], y[i]),\n",
        "                      xytext=(5, 2),\n",
        "                      textcoords='offset points',\n",
        "                      ha='right',\n",
        "                      va='bottom')\n",
        "    plt.show()"
      ],
      "execution_count": 0,
      "outputs": []
    },
    {
      "cell_type": "code",
      "metadata": {
        "id": "sl7h9WIDipsF",
        "colab_type": "code",
        "outputId": "56127f44-9f6a-48a7-f9bb-d50f989912d8",
        "colab": {
          "base_uri": "https://localhost:8080/",
          "height": 972
        }
      },
      "source": [
        "tsne_plot(w2v_model)"
      ],
      "execution_count": 81,
      "outputs": [
        {
          "output_type": "stream",
          "text": [
            "/usr/local/lib/python3.6/dist-packages/ipykernel_launcher.py:9: DeprecationWarning: Call to deprecated `__getitem__` (Method will be removed in 4.0.0, use self.wv.__getitem__() instead).\n",
            "  if __name__ == '__main__':\n"
          ],
          "name": "stderr"
        },
        {
          "output_type": "display_data",
          "data": {
            "image/png": "[encoded data removed]",
            "text/plain": [
              "<Figure size 1152x1152 with 1 Axes>"
            ]
          },
          "metadata": {
            "tags": [],
            "needs_background": "light"
          }
        }
      ]
    },
    {
      "cell_type": "markdown",
      "metadata": {
        "id": "VkczWq4-j0gP",
        "colab_type": "text"
      },
      "source": [
        "For the attentive eye, we can see a couple cool relationships emerge out of this visualization! \n",
        "\n",
        "1.) Note that \"fuck\", \"thank\", \"ass\", and \"needs\" are all super close to \"customers\" and \"employees\"!\n",
        "\n",
        "2.) All of the numbers (which likely refer to stations) are grouped together on the middle-right!\n",
        "\n",
        "3.) and more! (check out how things like regional, rail, transit are grouped, etc)"
      ]
    },
    {
      "cell_type": "markdown",
      "metadata": {
        "id": "l81xE5C-lDue",
        "colab_type": "text"
      },
      "source": [
        "## Part 4: Challenges, Obstacles, and Future Discussion\n",
        "\n",
        "**Challenges/Obstacles:** Albeit this is touched on in the individual sections, as a summary: most of the challenges faced in this project had to do with parts 2.4 and 3.3. \n",
        "\n",
        "*Part 2.4:* Since the number of features in train_df was so large (one-hot encoding all of the origins/destinations lead to 340+ columns) -- training a sufficiently large random forest took upwards of 3+ hours and exhausted the Collab RAM. Thus, a tradeoff had to be made between accuracy, training time/speed, and the size of the model; I ended up settling for 25 estimators and no-limits on the depth of the model.\n",
        "\n",
        "Its also worth noting that, prior to settling on the Random Forest, I also trained a logistic regression model; this, however, performed quite poorly on the dataset ( < 0.5 accuracy). \n",
        "\n",
        "*Part 3.3:* It was quite difficult to train a sentiment classifier without having labeled SEPTA tweets. My first attempt was to use a CNN. However, this didn't work well -- as CNNs requrie a fixed-input size (which doesn't work with variable-length sentences) and don't effectively capture context.\n",
        "\n",
        "My next approach was to train an LSTM (which was better suited for sentiment classifcation) on an IMDB movie review set. However, when the model was run on the SEPTA tweets, the results were super poor. I realized this was mainly because IMBD reviews were grammatical, didn't have slang, and had (at least some) sentence structure. Tweets were an entirely different story.\n",
        "\n",
        "To compensate for this, I opted to train the LSTM on the Twitter140 sentiment dataset -- which gave much better results. \n",
        "\n",
        "*Other:* Other challenges included random issues with seaborn, effectively cleaning data, and generating plots that weren't subject to error (for example, in part 1.4, I didn't realize that one of the stations only had 8 records, so although it had the highest average delay, that was simply the result of one unfortunate day).\n",
        "\n",
        "**Future Improvements:** If I had more time, I imagine I could've iterated on the Random Forest Regressor (made it more robust, possibly parallelized it) to improve delay predictions. There's also possibly room here for \n",
        "experimentation with RNNs. It would've also been interesting to do more EDA in part 1 on the correlation between being late to one station -> effect on other stations. \n",
        "\n",
        "There is also room for improvement with the sentiment classifier. A more ideal approach (time permitting) would've entailed labeling the SEPTA tweets and training on *that*, rather than a generalized Twitter dataset. It would've also been interesting to figure out how to detect sarcasm in text -- as some of the positively-classified tweets, were, in reality, pretty negative (i.e. \"Yo! Huge, huge thanks to SEPTA for absolutely nothing!\") "
      ]
    }
  ]
}